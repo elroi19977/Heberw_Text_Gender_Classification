{
 "cells": [
  {
   "cell_type": "code",
   "execution_count": 1,
   "metadata": {},
   "outputs": [],
   "source": [
    "from models import *"
   ]
  },
  {
   "cell_type": "code",
   "execution_count": 2,
   "metadata": {},
   "outputs": [],
   "source": [
    "%load_ext autoreload\n",
    "%autoreload 2"
   ]
  },
  {
   "cell_type": "code",
   "execution_count": 3,
   "metadata": {},
   "outputs": [],
   "source": [
    "import warnings\n",
    "warnings.filterwarnings('ignore')"
   ]
  },
  {
   "cell_type": "code",
   "execution_count": 4,
   "metadata": {},
   "outputs": [],
   "source": [
    "count_Q = \"features/count_vector_above50_no_sw_Q.csv\"\n",
    "count_Q_bert = \"features/count_vector_above50_no_sw_Q_bert.csv\"\n",
    "\n",
    "tfidf_Q = \"features/tfidf_vector_above50_no_sw_Q.csv\"\n",
    "tfidf_Q_bert = \"features/tfidf_vector_above50_no_sw_Q_bert.csv\"\n",
    "\n",
    "tfidf_Q_and_A = \"features/tfidf_vector_above50_no_sw_Q_and_A.csv\"\n",
    "tfidf_Q_and_A_bert = \"features/tfidf_vector_above50_no_sw_Q_and_A_bert.csv\""
   ]
  },
  {
   "cell_type": "code",
   "execution_count": 5,
   "metadata": {},
   "outputs": [],
   "source": [
    "def read_features_file(path):\n",
    "    df = pd.read_csv(path)\n",
    "\n",
    "    return df.drop([\"Unnamed: 0\"], axis=1)"
   ]
  },
  {
   "cell_type": "code",
   "execution_count": 6,
   "metadata": {},
   "outputs": [
    {
     "data": {
      "text/html": [
       "<div>\n",
       "<style scoped>\n",
       "    .dataframe tbody tr th:only-of-type {\n",
       "        vertical-align: middle;\n",
       "    }\n",
       "\n",
       "    .dataframe tbody tr th {\n",
       "        vertical-align: top;\n",
       "    }\n",
       "\n",
       "    .dataframe thead th {\n",
       "        text-align: right;\n",
       "    }\n",
       "</style>\n",
       "<table border=\"1\" class=\"dataframe\">\n",
       "  <thead>\n",
       "    <tr style=\"text-align: right;\">\n",
       "      <th></th>\n",
       "      <th>Question</th>\n",
       "      <th>Answer</th>\n",
       "      <th>QuestionLen</th>\n",
       "      <th>AnswerLen</th>\n",
       "      <th>Gender</th>\n",
       "      <th>אבא</th>\n",
       "      <th>אבי</th>\n",
       "      <th>אגב</th>\n",
       "      <th>אדם</th>\n",
       "      <th>אהבה</th>\n",
       "      <th>...</th>\n",
       "      <th>תלוי</th>\n",
       "      <th>תמיד</th>\n",
       "      <th>תעזרו</th>\n",
       "      <th>תענו</th>\n",
       "      <th>תפילה</th>\n",
       "      <th>תפילות</th>\n",
       "      <th>תפילין</th>\n",
       "      <th>תקופה</th>\n",
       "      <th>תשובה</th>\n",
       "      <th>תשובות</th>\n",
       "    </tr>\n",
       "  </thead>\n",
       "  <tbody>\n",
       "    <tr>\n",
       "      <th>0</th>\n",
       "      <td>\\nשלום לכם, אני נער בן 14 וגר באחת ה\"התנחלויות...</td>\n",
       "      <td>\\nב\"ה\\nד´ שלום!\\nראשית רציתי לומר לך שאני מאוד...</td>\n",
       "      <td>182</td>\n",
       "      <td>1257</td>\n",
       "      <td>1</td>\n",
       "      <td>0</td>\n",
       "      <td>0</td>\n",
       "      <td>0</td>\n",
       "      <td>0</td>\n",
       "      <td>0</td>\n",
       "      <td>...</td>\n",
       "      <td>0</td>\n",
       "      <td>0</td>\n",
       "      <td>0</td>\n",
       "      <td>0</td>\n",
       "      <td>0</td>\n",
       "      <td>0</td>\n",
       "      <td>0</td>\n",
       "      <td>0</td>\n",
       "      <td>0</td>\n",
       "      <td>0</td>\n",
       "    </tr>\n",
       "    <tr>\n",
       "      <th>1</th>\n",
       "      <td>\\nלעיתים יוצא לנו להתחיל את הסעודה בראש חודש ו...</td>\n",
       "      <td>\\nב\"ה\\nשלום וברכה\\nהדבר נתון במחלוקת הפוסקים ה...</td>\n",
       "      <td>286</td>\n",
       "      <td>1095</td>\n",
       "      <td>1</td>\n",
       "      <td>0</td>\n",
       "      <td>0</td>\n",
       "      <td>0</td>\n",
       "      <td>0</td>\n",
       "      <td>0</td>\n",
       "      <td>...</td>\n",
       "      <td>0</td>\n",
       "      <td>0</td>\n",
       "      <td>0</td>\n",
       "      <td>0</td>\n",
       "      <td>0</td>\n",
       "      <td>0</td>\n",
       "      <td>0</td>\n",
       "      <td>0</td>\n",
       "      <td>0</td>\n",
       "      <td>0</td>\n",
       "    </tr>\n",
       "  </tbody>\n",
       "</table>\n",
       "<p>2 rows × 1164 columns</p>\n",
       "</div>"
      ],
      "text/plain": [
       "                                            Question  \\\n",
       "0  \\nשלום לכם, אני נער בן 14 וגר באחת ה\"התנחלויות...   \n",
       "1  \\nלעיתים יוצא לנו להתחיל את הסעודה בראש חודש ו...   \n",
       "\n",
       "                                              Answer  QuestionLen  AnswerLen  \\\n",
       "0  \\nב\"ה\\nד´ שלום!\\nראשית רציתי לומר לך שאני מאוד...          182       1257   \n",
       "1  \\nב\"ה\\nשלום וברכה\\nהדבר נתון במחלוקת הפוסקים ה...          286       1095   \n",
       "\n",
       "   Gender  אבא  אבי  אגב  אדם  אהבה  ...  תלוי  תמיד  תעזרו  תענו  תפילה  \\\n",
       "0       1    0    0    0    0     0  ...     0     0      0     0      0   \n",
       "1       1    0    0    0    0     0  ...     0     0      0     0      0   \n",
       "\n",
       "   תפילות  תפילין  תקופה  תשובה  תשובות  \n",
       "0       0       0      0      0       0  \n",
       "1       0       0      0      0       0  \n",
       "\n",
       "[2 rows x 1164 columns]"
      ]
     },
     "execution_count": 6,
     "metadata": {},
     "output_type": "execute_result"
    }
   ],
   "source": [
    "read_features_file(count_Q).head(2)"
   ]
  },
  {
   "cell_type": "code",
   "execution_count": 7,
   "metadata": {},
   "outputs": [],
   "source": [
    "def get_x(df):\n",
    "    return df.drop([\"Question\", \"Answer\", \"Gender\"], axis=1)\n",
    "\n",
    "def get_y(df):\n",
    "    return df[\"Gender\"]"
   ]
  },
  {
   "cell_type": "code",
   "execution_count": 7,
   "metadata": {},
   "outputs": [],
   "source": [
    "def df_train_test_split(df):\n",
    "    X = get_x(df)\n",
    "    Y = get_y(df)\n",
    "\n",
    "    X_train, X_test, y_train, y_test = train_test_split(\n",
    "        X, \n",
    "        Y, \n",
    "        test_size = 0.25, \n",
    "        stratify=Y, \n",
    "        random_state=42\n",
    "    )\n",
    "\n",
    "    return X_train, X_test, y_train, y_test"
   ]
  },
  {
   "attachments": {},
   "cell_type": "markdown",
   "metadata": {},
   "source": [
    "# Analyzing different features files:"
   ]
  },
  {
   "attachments": {},
   "cell_type": "markdown",
   "metadata": {},
   "source": [
    "## Count Vectorizers:"
   ]
  },
  {
   "cell_type": "code",
   "execution_count": 8,
   "metadata": {},
   "outputs": [],
   "source": [
    "count_q_feat = read_features_file(count_Q)\n",
    "count_q_bert_feat = read_features_file(count_Q_bert)"
   ]
  },
  {
   "cell_type": "code",
   "execution_count": 9,
   "metadata": {},
   "outputs": [],
   "source": [
    "count_q_feat_vec = df_train_test_split(count_q_feat)\n",
    "count_q_bert_feat_vec = df_train_test_split(count_q_bert_feat)"
   ]
  },
  {
   "attachments": {},
   "cell_type": "markdown",
   "metadata": {},
   "source": [
    "### Logistic Regression"
   ]
  },
  {
   "cell_type": "markdown",
   "metadata": {},
   "source": [
    "| Model | Featurs | Train Accuracy | Test Accuracy |\n",
    "| :-: | :-: | :-: | :-: |\n",
    "| Logistic Regression | Count Vector Questions | 0.904 | 0.865\n",
    "| Logistic Regression | Count Vector Questions (bert) | 0.912 | 0.869\n",
    "| Logistic Regression | Count Vector Questions | 0.933 | 0.864\n",
    "| Logistic Regression | Count Vector Questions (bert) | 0.943 | 0.863\n",
    "| Logistic Regression | Count Vector Questions | 0.887 | 0.852\n",
    "| Logistic Regression CV | Count Vector Questions | 0.908 | 0.855"
   ]
  },
  {
   "cell_type": "code",
   "execution_count": 10,
   "metadata": {},
   "outputs": [
    {
     "name": "stdout",
     "output_type": "stream",
     "text": [
      "LogReg train accuracy: 0.904\n",
      "LogReg test accuracy: 0.865\n",
      "Accuracy: 0.8648648648648649\n",
      "[[566  62]\n",
      " [108 522]]\n",
      "Classification report:\n",
      "               precision    recall  f1-score   support\n",
      "\n",
      "           1       0.84      0.90      0.87       628\n",
      "           2       0.89      0.83      0.86       630\n",
      "\n",
      "    accuracy                           0.86      1258\n",
      "   macro avg       0.87      0.86      0.86      1258\n",
      "weighted avg       0.87      0.86      0.86      1258\n",
      "\n"
     ]
    }
   ],
   "source": [
    "log_reg = LogReg(*count_q_feat_vec, max_iter=100)"
   ]
  },
  {
   "cell_type": "code",
   "execution_count": 11,
   "metadata": {},
   "outputs": [
    {
     "data": {
      "image/png": "[encoded data removed]",
      "text/plain": [
       "<Figure size 720x327.273 with 1 Axes>"
      ]
     },
     "metadata": {
      "needs_background": "light"
     },
     "output_type": "display_data"
    }
   ],
   "source": [
    "plot_features_importance(log_reg.coef_[0], count_q_feat_vec[0])"
   ]
  },
  {
   "cell_type": "code",
   "execution_count": 12,
   "metadata": {},
   "outputs": [
    {
     "data": {
      "image/png": "[encoded data removed]",
      "text/plain": [
       "<Figure size 720x654.545 with 1 Axes>"
      ]
     },
     "metadata": {
      "needs_background": "light"
     },
     "output_type": "display_data"
    }
   ],
   "source": [
    "plot_features_importance(log_reg.coef_[0], count_q_feat_vec[0], 50)"
   ]
  },
  {
   "cell_type": "code",
   "execution_count": 13,
   "metadata": {},
   "outputs": [
    {
     "name": "stdout",
     "output_type": "stream",
     "text": [
      "LogReg train accuracy: 0.912\n",
      "LogReg test accuracy: 0.869\n",
      "Accuracy: 0.8688394276629571\n",
      "[[568  60]\n",
      " [105 525]]\n",
      "Classification report:\n",
      "               precision    recall  f1-score   support\n",
      "\n",
      "           1       0.84      0.90      0.87       628\n",
      "           2       0.90      0.83      0.86       630\n",
      "\n",
      "    accuracy                           0.87      1258\n",
      "   macro avg       0.87      0.87      0.87      1258\n",
      "weighted avg       0.87      0.87      0.87      1258\n",
      "\n"
     ]
    }
   ],
   "source": [
    "log_reg_bert = LogReg(*count_q_bert_feat_vec)"
   ]
  },
  {
   "cell_type": "code",
   "execution_count": 14,
   "metadata": {},
   "outputs": [
    {
     "data": {
      "image/png": "[encoded data removed]",
      "text/plain": [
       "<Figure size 720x654.545 with 1 Axes>"
      ]
     },
     "metadata": {
      "needs_background": "light"
     },
     "output_type": "display_data"
    }
   ],
   "source": [
    "plot_features_importance(log_reg_bert.coef_[0], count_q_bert_feat_vec[0], 50)"
   ]
  },
  {
   "attachments": {},
   "cell_type": "markdown",
   "metadata": {},
   "source": [
    "#### Log Reg Cross Val"
   ]
  },
  {
   "cell_type": "markdown",
   "metadata": {},
   "source": [
    "| Featurs | Train Accuracy | Test Accuracy |\n",
    "| :-: | :-: | :-: |\n",
    "| Count Vector Questions | 0.933 | 0.864\n",
    "| Count Vector Questions (bert) | 0.943 | 0.863"
   ]
  },
  {
   "cell_type": "code",
   "execution_count": 15,
   "metadata": {},
   "outputs": [
    {
     "name": "stdout",
     "output_type": "stream",
     "text": [
      "LogRegCV train accuracy: 0.933\n",
      "LogRegCV test accuracy: 0.864\n",
      "Accuracy: 0.8640699523052464\n",
      "[[577  51]\n",
      " [120 510]]\n",
      "Classification report:\n",
      "               precision    recall  f1-score   support\n",
      "\n",
      "           1       0.83      0.92      0.87       628\n",
      "           2       0.91      0.81      0.86       630\n",
      "\n",
      "    accuracy                           0.86      1258\n",
      "   macro avg       0.87      0.86      0.86      1258\n",
      "weighted avg       0.87      0.86      0.86      1258\n",
      "\n",
      "LogRegCV train accuracy: 0.943\n",
      "LogRegCV test accuracy: 0.863\n",
      "Accuracy: 0.863275039745628\n",
      "[[574  54]\n",
      " [118 512]]\n",
      "Classification report:\n",
      "               precision    recall  f1-score   support\n",
      "\n",
      "           1       0.83      0.91      0.87       628\n",
      "           2       0.90      0.81      0.86       630\n",
      "\n",
      "    accuracy                           0.86      1258\n",
      "   macro avg       0.87      0.86      0.86      1258\n",
      "weighted avg       0.87      0.86      0.86      1258\n",
      "\n"
     ]
    }
   ],
   "source": [
    "log_reg_cv = LogRegCV(*count_q_feat_vec)\n",
    "log_reg_bert_cv = LogRegCV(*count_q_bert_feat_vec)"
   ]
  },
  {
   "cell_type": "code",
   "execution_count": 16,
   "metadata": {},
   "outputs": [
    {
     "data": {
      "image/png": "[encoded data removed]",
      "text/plain": [
       "<Figure size 720x523.636 with 1 Axes>"
      ]
     },
     "metadata": {
      "needs_background": "light"
     },
     "output_type": "display_data"
    },
    {
     "data": {
      "image/png": "[encoded data removed]",
      "text/plain": [
       "<Figure size 720x523.636 with 1 Axes>"
      ]
     },
     "metadata": {
      "needs_background": "light"
     },
     "output_type": "display_data"
    }
   ],
   "source": [
    "plot_features_importance(log_reg_cv.coef_[0], count_q_feat_vec[0], 40)\n",
    "plot_features_importance(log_reg_bert_cv.coef_[0], count_q_bert_feat_vec[0], 40)"
   ]
  },
  {
   "attachments": {},
   "cell_type": "markdown",
   "metadata": {},
   "source": [
    "#### Log Reg + CV + Scaling"
   ]
  },
  {
   "attachments": {},
   "cell_type": "markdown",
   "metadata": {},
   "source": [
    "All models couldn't converge, even with 1000 iterations, and using Fast Convergance Solver (\"sag\", \"saga\")\n",
    "\n",
    "Let's try scaling:"
   ]
  },
  {
   "cell_type": "markdown",
   "metadata": {},
   "source": [
    "| Model | Featurs | Train Accuracy | Test Accuracy |\n",
    "| :-: | :-: | :-: | :-: |\n",
    "| Logistic Regression | Count Vector Questions | 0.887 | 0.852\n",
    "| Logistic Regression CV | Count Vector Questions | 0.908 | 0.855"
   ]
  },
  {
   "cell_type": "code",
   "execution_count": 17,
   "metadata": {},
   "outputs": [],
   "source": [
    "from sklearn.preprocessing import MinMaxScaler\n",
    "\n",
    "scaler = MinMaxScaler()"
   ]
  },
  {
   "cell_type": "code",
   "execution_count": 18,
   "metadata": {},
   "outputs": [],
   "source": [
    "feat = count_q_feat.copy(deep=True)\n",
    "feat_cols = [x for x in feat.columns if x not in [\"Question\", \"Answer\", \"Gender\", \"QuestionLen\", \"AnswerLen\"]]\n",
    "feat[feat_cols] = scaler.fit_transform(feat[feat_cols])\n",
    "\n",
    "X_train, X_test, y_train, y_test = df_train_test_split(feat)"
   ]
  },
  {
   "cell_type": "code",
   "execution_count": 19,
   "metadata": {},
   "outputs": [
    {
     "data": {
      "text/html": [
       "<div>\n",
       "<style scoped>\n",
       "    .dataframe tbody tr th:only-of-type {\n",
       "        vertical-align: middle;\n",
       "    }\n",
       "\n",
       "    .dataframe tbody tr th {\n",
       "        vertical-align: top;\n",
       "    }\n",
       "\n",
       "    .dataframe thead th {\n",
       "        text-align: right;\n",
       "    }\n",
       "</style>\n",
       "<table border=\"1\" class=\"dataframe\">\n",
       "  <thead>\n",
       "    <tr style=\"text-align: right;\">\n",
       "      <th></th>\n",
       "      <th>QuestionLen</th>\n",
       "      <th>AnswerLen</th>\n",
       "      <th>Gender</th>\n",
       "      <th>אבא</th>\n",
       "      <th>אבי</th>\n",
       "      <th>אגב</th>\n",
       "      <th>אדם</th>\n",
       "      <th>אהבה</th>\n",
       "      <th>אהיה</th>\n",
       "      <th>אודה</th>\n",
       "      <th>...</th>\n",
       "      <th>תלוי</th>\n",
       "      <th>תמיד</th>\n",
       "      <th>תעזרו</th>\n",
       "      <th>תענו</th>\n",
       "      <th>תפילה</th>\n",
       "      <th>תפילות</th>\n",
       "      <th>תפילין</th>\n",
       "      <th>תקופה</th>\n",
       "      <th>תשובה</th>\n",
       "      <th>תשובות</th>\n",
       "    </tr>\n",
       "  </thead>\n",
       "  <tbody>\n",
       "    <tr>\n",
       "      <th>count</th>\n",
       "      <td>5031.000000</td>\n",
       "      <td>5031.000000</td>\n",
       "      <td>5031.000000</td>\n",
       "      <td>5031.000000</td>\n",
       "      <td>5031.000000</td>\n",
       "      <td>5031.000000</td>\n",
       "      <td>5031.000000</td>\n",
       "      <td>5031.000000</td>\n",
       "      <td>5031.000000</td>\n",
       "      <td>5031.000000</td>\n",
       "      <td>...</td>\n",
       "      <td>5031.000000</td>\n",
       "      <td>5031.000000</td>\n",
       "      <td>5031.000000</td>\n",
       "      <td>5031.000000</td>\n",
       "      <td>5031.000000</td>\n",
       "      <td>5031.000000</td>\n",
       "      <td>5031.000000</td>\n",
       "      <td>5031.000000</td>\n",
       "      <td>5031.000000</td>\n",
       "      <td>5031.000000</td>\n",
       "    </tr>\n",
       "    <tr>\n",
       "      <th>mean</th>\n",
       "      <td>603.559730</td>\n",
       "      <td>2701.784138</td>\n",
       "      <td>1.500894</td>\n",
       "      <td>0.035182</td>\n",
       "      <td>0.009938</td>\n",
       "      <td>0.012324</td>\n",
       "      <td>0.159014</td>\n",
       "      <td>0.032995</td>\n",
       "      <td>0.016299</td>\n",
       "      <td>0.019877</td>\n",
       "      <td>...</td>\n",
       "      <td>0.010137</td>\n",
       "      <td>0.136156</td>\n",
       "      <td>0.041542</td>\n",
       "      <td>0.029616</td>\n",
       "      <td>0.029616</td>\n",
       "      <td>0.012721</td>\n",
       "      <td>0.017690</td>\n",
       "      <td>0.024448</td>\n",
       "      <td>0.108527</td>\n",
       "      <td>0.032598</td>\n",
       "    </tr>\n",
       "    <tr>\n",
       "      <th>std</th>\n",
       "      <td>717.003513</td>\n",
       "      <td>1980.205941</td>\n",
       "      <td>0.500049</td>\n",
       "      <td>0.234573</td>\n",
       "      <td>0.134876</td>\n",
       "      <td>0.119005</td>\n",
       "      <td>0.521275</td>\n",
       "      <td>0.246858</td>\n",
       "      <td>0.137185</td>\n",
       "      <td>0.145176</td>\n",
       "      <td>...</td>\n",
       "      <td>0.111454</td>\n",
       "      <td>0.455960</td>\n",
       "      <td>0.212117</td>\n",
       "      <td>0.177562</td>\n",
       "      <td>0.192600</td>\n",
       "      <td>0.118963</td>\n",
       "      <td>0.175783</td>\n",
       "      <td>0.187052</td>\n",
       "      <td>0.381674</td>\n",
       "      <td>0.215066</td>\n",
       "    </tr>\n",
       "    <tr>\n",
       "      <th>min</th>\n",
       "      <td>10.000000</td>\n",
       "      <td>5.000000</td>\n",
       "      <td>1.000000</td>\n",
       "      <td>0.000000</td>\n",
       "      <td>0.000000</td>\n",
       "      <td>0.000000</td>\n",
       "      <td>0.000000</td>\n",
       "      <td>0.000000</td>\n",
       "      <td>0.000000</td>\n",
       "      <td>0.000000</td>\n",
       "      <td>...</td>\n",
       "      <td>0.000000</td>\n",
       "      <td>0.000000</td>\n",
       "      <td>0.000000</td>\n",
       "      <td>0.000000</td>\n",
       "      <td>0.000000</td>\n",
       "      <td>0.000000</td>\n",
       "      <td>0.000000</td>\n",
       "      <td>0.000000</td>\n",
       "      <td>0.000000</td>\n",
       "      <td>0.000000</td>\n",
       "    </tr>\n",
       "    <tr>\n",
       "      <th>25%</th>\n",
       "      <td>244.000000</td>\n",
       "      <td>1370.000000</td>\n",
       "      <td>1.000000</td>\n",
       "      <td>0.000000</td>\n",
       "      <td>0.000000</td>\n",
       "      <td>0.000000</td>\n",
       "      <td>0.000000</td>\n",
       "      <td>0.000000</td>\n",
       "      <td>0.000000</td>\n",
       "      <td>0.000000</td>\n",
       "      <td>...</td>\n",
       "      <td>0.000000</td>\n",
       "      <td>0.000000</td>\n",
       "      <td>0.000000</td>\n",
       "      <td>0.000000</td>\n",
       "      <td>0.000000</td>\n",
       "      <td>0.000000</td>\n",
       "      <td>0.000000</td>\n",
       "      <td>0.000000</td>\n",
       "      <td>0.000000</td>\n",
       "      <td>0.000000</td>\n",
       "    </tr>\n",
       "    <tr>\n",
       "      <th>50%</th>\n",
       "      <td>434.000000</td>\n",
       "      <td>2276.000000</td>\n",
       "      <td>2.000000</td>\n",
       "      <td>0.000000</td>\n",
       "      <td>0.000000</td>\n",
       "      <td>0.000000</td>\n",
       "      <td>0.000000</td>\n",
       "      <td>0.000000</td>\n",
       "      <td>0.000000</td>\n",
       "      <td>0.000000</td>\n",
       "      <td>...</td>\n",
       "      <td>0.000000</td>\n",
       "      <td>0.000000</td>\n",
       "      <td>0.000000</td>\n",
       "      <td>0.000000</td>\n",
       "      <td>0.000000</td>\n",
       "      <td>0.000000</td>\n",
       "      <td>0.000000</td>\n",
       "      <td>0.000000</td>\n",
       "      <td>0.000000</td>\n",
       "      <td>0.000000</td>\n",
       "    </tr>\n",
       "    <tr>\n",
       "      <th>75%</th>\n",
       "      <td>733.500000</td>\n",
       "      <td>3497.500000</td>\n",
       "      <td>2.000000</td>\n",
       "      <td>0.000000</td>\n",
       "      <td>0.000000</td>\n",
       "      <td>0.000000</td>\n",
       "      <td>0.000000</td>\n",
       "      <td>0.000000</td>\n",
       "      <td>0.000000</td>\n",
       "      <td>0.000000</td>\n",
       "      <td>...</td>\n",
       "      <td>0.000000</td>\n",
       "      <td>0.000000</td>\n",
       "      <td>0.000000</td>\n",
       "      <td>0.000000</td>\n",
       "      <td>0.000000</td>\n",
       "      <td>0.000000</td>\n",
       "      <td>0.000000</td>\n",
       "      <td>0.000000</td>\n",
       "      <td>0.000000</td>\n",
       "      <td>0.000000</td>\n",
       "    </tr>\n",
       "    <tr>\n",
       "      <th>max</th>\n",
       "      <td>26411.000000</td>\n",
       "      <td>21183.000000</td>\n",
       "      <td>2.000000</td>\n",
       "      <td>5.000000</td>\n",
       "      <td>5.000000</td>\n",
       "      <td>2.000000</td>\n",
       "      <td>6.000000</td>\n",
       "      <td>6.000000</td>\n",
       "      <td>3.000000</td>\n",
       "      <td>2.000000</td>\n",
       "      <td>...</td>\n",
       "      <td>2.000000</td>\n",
       "      <td>7.000000</td>\n",
       "      <td>3.000000</td>\n",
       "      <td>3.000000</td>\n",
       "      <td>3.000000</td>\n",
       "      <td>2.000000</td>\n",
       "      <td>5.000000</td>\n",
       "      <td>5.000000</td>\n",
       "      <td>4.000000</td>\n",
       "      <td>4.000000</td>\n",
       "    </tr>\n",
       "  </tbody>\n",
       "</table>\n",
       "<p>8 rows × 1162 columns</p>\n",
       "</div>"
      ],
      "text/plain": [
       "        QuestionLen     AnswerLen       Gender          אבא          אבי  \\\n",
       "count   5031.000000   5031.000000  5031.000000  5031.000000  5031.000000   \n",
       "mean     603.559730   2701.784138     1.500894     0.035182     0.009938   \n",
       "std      717.003513   1980.205941     0.500049     0.234573     0.134876   \n",
       "min       10.000000      5.000000     1.000000     0.000000     0.000000   \n",
       "25%      244.000000   1370.000000     1.000000     0.000000     0.000000   \n",
       "50%      434.000000   2276.000000     2.000000     0.000000     0.000000   \n",
       "75%      733.500000   3497.500000     2.000000     0.000000     0.000000   \n",
       "max    26411.000000  21183.000000     2.000000     5.000000     5.000000   \n",
       "\n",
       "               אגב          אדם         אהבה         אהיה         אודה  ...  \\\n",
       "count  5031.000000  5031.000000  5031.000000  5031.000000  5031.000000  ...   \n",
       "mean      0.012324     0.159014     0.032995     0.016299     0.019877  ...   \n",
       "std       0.119005     0.521275     0.246858     0.137185     0.145176  ...   \n",
       "min       0.000000     0.000000     0.000000     0.000000     0.000000  ...   \n",
       "25%       0.000000     0.000000     0.000000     0.000000     0.000000  ...   \n",
       "50%       0.000000     0.000000     0.000000     0.000000     0.000000  ...   \n",
       "75%       0.000000     0.000000     0.000000     0.000000     0.000000  ...   \n",
       "max       2.000000     6.000000     6.000000     3.000000     2.000000  ...   \n",
       "\n",
       "              תלוי         תמיד        תעזרו         תענו        תפילה  \\\n",
       "count  5031.000000  5031.000000  5031.000000  5031.000000  5031.000000   \n",
       "mean      0.010137     0.136156     0.041542     0.029616     0.029616   \n",
       "std       0.111454     0.455960     0.212117     0.177562     0.192600   \n",
       "min       0.000000     0.000000     0.000000     0.000000     0.000000   \n",
       "25%       0.000000     0.000000     0.000000     0.000000     0.000000   \n",
       "50%       0.000000     0.000000     0.000000     0.000000     0.000000   \n",
       "75%       0.000000     0.000000     0.000000     0.000000     0.000000   \n",
       "max       2.000000     7.000000     3.000000     3.000000     3.000000   \n",
       "\n",
       "            תפילות       תפילין        תקופה        תשובה       תשובות  \n",
       "count  5031.000000  5031.000000  5031.000000  5031.000000  5031.000000  \n",
       "mean      0.012721     0.017690     0.024448     0.108527     0.032598  \n",
       "std       0.118963     0.175783     0.187052     0.381674     0.215066  \n",
       "min       0.000000     0.000000     0.000000     0.000000     0.000000  \n",
       "25%       0.000000     0.000000     0.000000     0.000000     0.000000  \n",
       "50%       0.000000     0.000000     0.000000     0.000000     0.000000  \n",
       "75%       0.000000     0.000000     0.000000     0.000000     0.000000  \n",
       "max       2.000000     5.000000     5.000000     4.000000     4.000000  \n",
       "\n",
       "[8 rows x 1162 columns]"
      ]
     },
     "execution_count": 19,
     "metadata": {},
     "output_type": "execute_result"
    }
   ],
   "source": [
    "count_q_feat.describe()"
   ]
  },
  {
   "cell_type": "code",
   "execution_count": 20,
   "metadata": {},
   "outputs": [
    {
     "data": {
      "text/html": [
       "<div>\n",
       "<style scoped>\n",
       "    .dataframe tbody tr th:only-of-type {\n",
       "        vertical-align: middle;\n",
       "    }\n",
       "\n",
       "    .dataframe tbody tr th {\n",
       "        vertical-align: top;\n",
       "    }\n",
       "\n",
       "    .dataframe thead th {\n",
       "        text-align: right;\n",
       "    }\n",
       "</style>\n",
       "<table border=\"1\" class=\"dataframe\">\n",
       "  <thead>\n",
       "    <tr style=\"text-align: right;\">\n",
       "      <th></th>\n",
       "      <th>QuestionLen</th>\n",
       "      <th>AnswerLen</th>\n",
       "      <th>Gender</th>\n",
       "      <th>אבא</th>\n",
       "      <th>אבי</th>\n",
       "      <th>אגב</th>\n",
       "      <th>אדם</th>\n",
       "      <th>אהבה</th>\n",
       "      <th>אהיה</th>\n",
       "      <th>אודה</th>\n",
       "      <th>...</th>\n",
       "      <th>תלוי</th>\n",
       "      <th>תמיד</th>\n",
       "      <th>תעזרו</th>\n",
       "      <th>תענו</th>\n",
       "      <th>תפילה</th>\n",
       "      <th>תפילות</th>\n",
       "      <th>תפילין</th>\n",
       "      <th>תקופה</th>\n",
       "      <th>תשובה</th>\n",
       "      <th>תשובות</th>\n",
       "    </tr>\n",
       "  </thead>\n",
       "  <tbody>\n",
       "    <tr>\n",
       "      <th>count</th>\n",
       "      <td>5031.000000</td>\n",
       "      <td>5031.000000</td>\n",
       "      <td>5031.000000</td>\n",
       "      <td>5031.000000</td>\n",
       "      <td>5031.000000</td>\n",
       "      <td>5031.000000</td>\n",
       "      <td>5031.000000</td>\n",
       "      <td>5031.000000</td>\n",
       "      <td>5031.000000</td>\n",
       "      <td>5031.000000</td>\n",
       "      <td>...</td>\n",
       "      <td>5031.000000</td>\n",
       "      <td>5031.000000</td>\n",
       "      <td>5031.000000</td>\n",
       "      <td>5031.000000</td>\n",
       "      <td>5031.000000</td>\n",
       "      <td>5031.000000</td>\n",
       "      <td>5031.000000</td>\n",
       "      <td>5031.00000</td>\n",
       "      <td>5031.000000</td>\n",
       "      <td>5031.000000</td>\n",
       "    </tr>\n",
       "    <tr>\n",
       "      <th>mean</th>\n",
       "      <td>603.559730</td>\n",
       "      <td>2701.784138</td>\n",
       "      <td>1.500894</td>\n",
       "      <td>0.007036</td>\n",
       "      <td>0.001988</td>\n",
       "      <td>0.006162</td>\n",
       "      <td>0.026502</td>\n",
       "      <td>0.005499</td>\n",
       "      <td>0.005433</td>\n",
       "      <td>0.009938</td>\n",
       "      <td>...</td>\n",
       "      <td>0.005069</td>\n",
       "      <td>0.019451</td>\n",
       "      <td>0.013847</td>\n",
       "      <td>0.009872</td>\n",
       "      <td>0.009872</td>\n",
       "      <td>0.006361</td>\n",
       "      <td>0.003538</td>\n",
       "      <td>0.00489</td>\n",
       "      <td>0.027132</td>\n",
       "      <td>0.008149</td>\n",
       "    </tr>\n",
       "    <tr>\n",
       "      <th>std</th>\n",
       "      <td>717.003513</td>\n",
       "      <td>1980.205941</td>\n",
       "      <td>0.500049</td>\n",
       "      <td>0.046915</td>\n",
       "      <td>0.026975</td>\n",
       "      <td>0.059503</td>\n",
       "      <td>0.086879</td>\n",
       "      <td>0.041143</td>\n",
       "      <td>0.045728</td>\n",
       "      <td>0.072588</td>\n",
       "      <td>...</td>\n",
       "      <td>0.055727</td>\n",
       "      <td>0.065137</td>\n",
       "      <td>0.070706</td>\n",
       "      <td>0.059187</td>\n",
       "      <td>0.064200</td>\n",
       "      <td>0.059482</td>\n",
       "      <td>0.035157</td>\n",
       "      <td>0.03741</td>\n",
       "      <td>0.095418</td>\n",
       "      <td>0.053766</td>\n",
       "    </tr>\n",
       "    <tr>\n",
       "      <th>min</th>\n",
       "      <td>10.000000</td>\n",
       "      <td>5.000000</td>\n",
       "      <td>1.000000</td>\n",
       "      <td>0.000000</td>\n",
       "      <td>0.000000</td>\n",
       "      <td>0.000000</td>\n",
       "      <td>0.000000</td>\n",
       "      <td>0.000000</td>\n",
       "      <td>0.000000</td>\n",
       "      <td>0.000000</td>\n",
       "      <td>...</td>\n",
       "      <td>0.000000</td>\n",
       "      <td>0.000000</td>\n",
       "      <td>0.000000</td>\n",
       "      <td>0.000000</td>\n",
       "      <td>0.000000</td>\n",
       "      <td>0.000000</td>\n",
       "      <td>0.000000</td>\n",
       "      <td>0.00000</td>\n",
       "      <td>0.000000</td>\n",
       "      <td>0.000000</td>\n",
       "    </tr>\n",
       "    <tr>\n",
       "      <th>25%</th>\n",
       "      <td>244.000000</td>\n",
       "      <td>1370.000000</td>\n",
       "      <td>1.000000</td>\n",
       "      <td>0.000000</td>\n",
       "      <td>0.000000</td>\n",
       "      <td>0.000000</td>\n",
       "      <td>0.000000</td>\n",
       "      <td>0.000000</td>\n",
       "      <td>0.000000</td>\n",
       "      <td>0.000000</td>\n",
       "      <td>...</td>\n",
       "      <td>0.000000</td>\n",
       "      <td>0.000000</td>\n",
       "      <td>0.000000</td>\n",
       "      <td>0.000000</td>\n",
       "      <td>0.000000</td>\n",
       "      <td>0.000000</td>\n",
       "      <td>0.000000</td>\n",
       "      <td>0.00000</td>\n",
       "      <td>0.000000</td>\n",
       "      <td>0.000000</td>\n",
       "    </tr>\n",
       "    <tr>\n",
       "      <th>50%</th>\n",
       "      <td>434.000000</td>\n",
       "      <td>2276.000000</td>\n",
       "      <td>2.000000</td>\n",
       "      <td>0.000000</td>\n",
       "      <td>0.000000</td>\n",
       "      <td>0.000000</td>\n",
       "      <td>0.000000</td>\n",
       "      <td>0.000000</td>\n",
       "      <td>0.000000</td>\n",
       "      <td>0.000000</td>\n",
       "      <td>...</td>\n",
       "      <td>0.000000</td>\n",
       "      <td>0.000000</td>\n",
       "      <td>0.000000</td>\n",
       "      <td>0.000000</td>\n",
       "      <td>0.000000</td>\n",
       "      <td>0.000000</td>\n",
       "      <td>0.000000</td>\n",
       "      <td>0.00000</td>\n",
       "      <td>0.000000</td>\n",
       "      <td>0.000000</td>\n",
       "    </tr>\n",
       "    <tr>\n",
       "      <th>75%</th>\n",
       "      <td>733.500000</td>\n",
       "      <td>3497.500000</td>\n",
       "      <td>2.000000</td>\n",
       "      <td>0.000000</td>\n",
       "      <td>0.000000</td>\n",
       "      <td>0.000000</td>\n",
       "      <td>0.000000</td>\n",
       "      <td>0.000000</td>\n",
       "      <td>0.000000</td>\n",
       "      <td>0.000000</td>\n",
       "      <td>...</td>\n",
       "      <td>0.000000</td>\n",
       "      <td>0.000000</td>\n",
       "      <td>0.000000</td>\n",
       "      <td>0.000000</td>\n",
       "      <td>0.000000</td>\n",
       "      <td>0.000000</td>\n",
       "      <td>0.000000</td>\n",
       "      <td>0.00000</td>\n",
       "      <td>0.000000</td>\n",
       "      <td>0.000000</td>\n",
       "    </tr>\n",
       "    <tr>\n",
       "      <th>max</th>\n",
       "      <td>26411.000000</td>\n",
       "      <td>21183.000000</td>\n",
       "      <td>2.000000</td>\n",
       "      <td>1.000000</td>\n",
       "      <td>1.000000</td>\n",
       "      <td>1.000000</td>\n",
       "      <td>1.000000</td>\n",
       "      <td>1.000000</td>\n",
       "      <td>1.000000</td>\n",
       "      <td>1.000000</td>\n",
       "      <td>...</td>\n",
       "      <td>1.000000</td>\n",
       "      <td>1.000000</td>\n",
       "      <td>1.000000</td>\n",
       "      <td>1.000000</td>\n",
       "      <td>1.000000</td>\n",
       "      <td>1.000000</td>\n",
       "      <td>1.000000</td>\n",
       "      <td>1.00000</td>\n",
       "      <td>1.000000</td>\n",
       "      <td>1.000000</td>\n",
       "    </tr>\n",
       "  </tbody>\n",
       "</table>\n",
       "<p>8 rows × 1162 columns</p>\n",
       "</div>"
      ],
      "text/plain": [
       "        QuestionLen     AnswerLen       Gender          אבא          אבי  \\\n",
       "count   5031.000000   5031.000000  5031.000000  5031.000000  5031.000000   \n",
       "mean     603.559730   2701.784138     1.500894     0.007036     0.001988   \n",
       "std      717.003513   1980.205941     0.500049     0.046915     0.026975   \n",
       "min       10.000000      5.000000     1.000000     0.000000     0.000000   \n",
       "25%      244.000000   1370.000000     1.000000     0.000000     0.000000   \n",
       "50%      434.000000   2276.000000     2.000000     0.000000     0.000000   \n",
       "75%      733.500000   3497.500000     2.000000     0.000000     0.000000   \n",
       "max    26411.000000  21183.000000     2.000000     1.000000     1.000000   \n",
       "\n",
       "               אגב          אדם         אהבה         אהיה         אודה  ...  \\\n",
       "count  5031.000000  5031.000000  5031.000000  5031.000000  5031.000000  ...   \n",
       "mean      0.006162     0.026502     0.005499     0.005433     0.009938  ...   \n",
       "std       0.059503     0.086879     0.041143     0.045728     0.072588  ...   \n",
       "min       0.000000     0.000000     0.000000     0.000000     0.000000  ...   \n",
       "25%       0.000000     0.000000     0.000000     0.000000     0.000000  ...   \n",
       "50%       0.000000     0.000000     0.000000     0.000000     0.000000  ...   \n",
       "75%       0.000000     0.000000     0.000000     0.000000     0.000000  ...   \n",
       "max       1.000000     1.000000     1.000000     1.000000     1.000000  ...   \n",
       "\n",
       "              תלוי         תמיד        תעזרו         תענו        תפילה  \\\n",
       "count  5031.000000  5031.000000  5031.000000  5031.000000  5031.000000   \n",
       "mean      0.005069     0.019451     0.013847     0.009872     0.009872   \n",
       "std       0.055727     0.065137     0.070706     0.059187     0.064200   \n",
       "min       0.000000     0.000000     0.000000     0.000000     0.000000   \n",
       "25%       0.000000     0.000000     0.000000     0.000000     0.000000   \n",
       "50%       0.000000     0.000000     0.000000     0.000000     0.000000   \n",
       "75%       0.000000     0.000000     0.000000     0.000000     0.000000   \n",
       "max       1.000000     1.000000     1.000000     1.000000     1.000000   \n",
       "\n",
       "            תפילות       תפילין       תקופה        תשובה       תשובות  \n",
       "count  5031.000000  5031.000000  5031.00000  5031.000000  5031.000000  \n",
       "mean      0.006361     0.003538     0.00489     0.027132     0.008149  \n",
       "std       0.059482     0.035157     0.03741     0.095418     0.053766  \n",
       "min       0.000000     0.000000     0.00000     0.000000     0.000000  \n",
       "25%       0.000000     0.000000     0.00000     0.000000     0.000000  \n",
       "50%       0.000000     0.000000     0.00000     0.000000     0.000000  \n",
       "75%       0.000000     0.000000     0.00000     0.000000     0.000000  \n",
       "max       1.000000     1.000000     1.00000     1.000000     1.000000  \n",
       "\n",
       "[8 rows x 1162 columns]"
      ]
     },
     "execution_count": 20,
     "metadata": {},
     "output_type": "execute_result"
    }
   ],
   "source": [
    "feat.describe()"
   ]
  },
  {
   "cell_type": "code",
   "execution_count": 21,
   "metadata": {},
   "outputs": [
    {
     "name": "stdout",
     "output_type": "stream",
     "text": [
      "LogReg train accuracy: 0.887\n",
      "LogReg test accuracy: 0.852\n",
      "Accuracy: 0.8521462639109698\n",
      "[[574  54]\n",
      " [132 498]]\n",
      "Classification report:\n",
      "               precision    recall  f1-score   support\n",
      "\n",
      "           1       0.81      0.91      0.86       628\n",
      "           2       0.90      0.79      0.84       630\n",
      "\n",
      "    accuracy                           0.85      1258\n",
      "   macro avg       0.86      0.85      0.85      1258\n",
      "weighted avg       0.86      0.85      0.85      1258\n",
      "\n"
     ]
    }
   ],
   "source": [
    "log_reg = LogisticRegression()\n",
    " \n",
    "log_reg.fit(X_train, y_train)\n",
    "\n",
    "print(f\"LogReg train accuracy: {log_reg.score(X_train, y_train):.3f}\")\n",
    "print(f\"LogReg test accuracy: {log_reg.score(X_test, y_test):.3f}\")\n",
    "y_pred = log_reg.predict(X_test)\n",
    "model_metrics(y_test, y_pred)"
   ]
  },
  {
   "cell_type": "code",
   "execution_count": 22,
   "metadata": {},
   "outputs": [
    {
     "data": {
      "image/png": "[encoded data removed]",
      "text/plain": [
       "<Figure size 720x327.273 with 1 Axes>"
      ]
     },
     "metadata": {
      "needs_background": "light"
     },
     "output_type": "display_data"
    }
   ],
   "source": [
    "plot_features_importance(log_reg.coef_[0], X_train)"
   ]
  },
  {
   "cell_type": "code",
   "execution_count": 23,
   "metadata": {},
   "outputs": [
    {
     "name": "stdout",
     "output_type": "stream",
     "text": [
      "LogRegCV train accuracy: 0.908\n",
      "LogRegCV test accuracy: 0.855\n",
      "Accuracy: 0.8545310015898251\n",
      "[[575  53]\n",
      " [130 500]]\n",
      "Classification report:\n",
      "               precision    recall  f1-score   support\n",
      "\n",
      "           1       0.82      0.92      0.86       628\n",
      "           2       0.90      0.79      0.85       630\n",
      "\n",
      "    accuracy                           0.85      1258\n",
      "   macro avg       0.86      0.85      0.85      1258\n",
      "weighted avg       0.86      0.85      0.85      1258\n",
      "\n"
     ]
    }
   ],
   "source": [
    "log_reg_cv = LogRegCV(X_train, X_test, y_train, y_test)"
   ]
  },
  {
   "cell_type": "code",
   "execution_count": 24,
   "metadata": {},
   "outputs": [
    {
     "data": {
      "image/png": "[encoded data removed]",
      "text/plain": [
       "<Figure size 720x327.273 with 1 Axes>"
      ]
     },
     "metadata": {
      "needs_background": "light"
     },
     "output_type": "display_data"
    }
   ],
   "source": [
    "plot_features_importance(log_reg_cv.coef_[0], X_train)"
   ]
  },
  {
   "attachments": {},
   "cell_type": "markdown",
   "metadata": {},
   "source": [
    "### Random Forest"
   ]
  },
  {
   "cell_type": "markdown",
   "metadata": {},
   "source": [
    "| Model | Featurs | Train Accuracy | Test Accuracy |\n",
    "| :-: | :-: | :-: | :-: |\n",
    "| Random Forest* | Count Vector Questions | 0.842 | 0.829\n",
    "| Random Forest* | Count Vector Questions (bert) | 0.847 | 0.843\n",
    "| Random Forest** | Count Vector Questions | 0.999 | 0.878\n",
    "| Random Forest** | Count Vector Questions (bert) | 0.999 | 0.890\n",
    "| Random Forest*** | Count Vector Questions | 0.907 | 0.878\n",
    "| Random Forest*** | Count Vector Questions (bert) | 0.910 | 0.873\n",
    "\n",
    "* \\* n_estimators=100, max_depth=100, min_samples_leaf=1\n",
    "* \\** n_estimators=250, max_depth=100, min_samples_leaf=1\n",
    "* \\*** n_estimators=100, max_depth=25, min_samples_leaf=3"
   ]
  },
  {
   "cell_type": "code",
   "execution_count": 25,
   "metadata": {},
   "outputs": [
    {
     "name": "stdout",
     "output_type": "stream",
     "text": [
      "RandForest train accuracy: 0.842\n",
      "RandForest test accuracy: 0.829\n",
      "Accuracy: 0.829093799682035\n",
      "[[604  24]\n",
      " [191 439]]\n",
      "Classification report:\n",
      "               precision    recall  f1-score   support\n",
      "\n",
      "           1       0.76      0.96      0.85       628\n",
      "           2       0.95      0.70      0.80       630\n",
      "\n",
      "    accuracy                           0.83      1258\n",
      "   macro avg       0.85      0.83      0.83      1258\n",
      "weighted avg       0.85      0.83      0.83      1258\n",
      "\n",
      "RandForest train accuracy: 0.847\n",
      "RandForest test accuracy: 0.843\n",
      "Accuracy: 0.8434022257551669\n",
      "[[609  19]\n",
      " [178 452]]\n",
      "Classification report:\n",
      "               precision    recall  f1-score   support\n",
      "\n",
      "           1       0.77      0.97      0.86       628\n",
      "           2       0.96      0.72      0.82       630\n",
      "\n",
      "    accuracy                           0.84      1258\n",
      "   macro avg       0.87      0.84      0.84      1258\n",
      "weighted avg       0.87      0.84      0.84      1258\n",
      "\n"
     ]
    }
   ],
   "source": [
    "rand_for = RandForest(*count_q_feat_vec, n_estimators=100, max_depth=100, min_samples_leaf=1)\n",
    "rand_for_bert = RandForest(*count_q_bert_feat_vec, n_estimators=100, max_depth=100, min_samples_leaf=1)"
   ]
  },
  {
   "cell_type": "code",
   "execution_count": 26,
   "metadata": {},
   "outputs": [
    {
     "data": {
      "image/png": "[encoded data removed]",
      "text/plain": [
       "<Figure size 720x327.273 with 1 Axes>"
      ]
     },
     "metadata": {
      "needs_background": "light"
     },
     "output_type": "display_data"
    },
    {
     "data": {
      "image/png": "[encoded data removed]",
      "text/plain": [
       "<Figure size 720x327.273 with 1 Axes>"
      ]
     },
     "metadata": {
      "needs_background": "light"
     },
     "output_type": "display_data"
    }
   ],
   "source": [
    "plot_features_importance(rand_for.feature_importances_, count_q_feat_vec[0])\n",
    "plot_features_importance(rand_for_bert.feature_importances_, count_q_bert_feat_vec[0])"
   ]
  },
  {
   "attachments": {},
   "cell_type": "markdown",
   "metadata": {},
   "source": [
    "#### Random Forest Grid Search Cross Val"
   ]
  },
  {
   "cell_type": "code",
   "execution_count": 59,
   "metadata": {},
   "outputs": [],
   "source": [
    "X_train, X_test, y_train, y_test = df_train_test_split(count_q_feat)"
   ]
  },
  {
   "cell_type": "code",
   "execution_count": 60,
   "metadata": {},
   "outputs": [],
   "source": [
    "from sklearn.model_selection import GridSearchCV"
   ]
  },
  {
   "cell_type": "code",
   "execution_count": 61,
   "metadata": {},
   "outputs": [
    {
     "name": "stdout",
     "output_type": "stream",
     "text": [
      "{'max_depth': 100, 'min_samples_leaf': 1, 'n_estimators': 250}\n"
     ]
    }
   ],
   "source": [
    "rf = RandomForestClassifier(max_features='sqrt', random_state=42, n_jobs=-1)  \n",
    "\n",
    "param_grid = {\n",
    "        \"n_estimators\" : [10, 50, 100, 250],  \n",
    "        \"max_depth\" : [5, 25, 50, 75, 100, 200],  \n",
    "        \"min_samples_leaf\" : [1, 5, 10, 20, 40]\n",
    "    }  \n",
    "\n",
    "CV_rf = GridSearchCV(estimator=rf, param_grid=param_grid, n_jobs=-1)  \n",
    "CV_rf.fit(X_train, y_train)\n",
    "    \n",
    "print(CV_rf.best_params_)"
   ]
  },
  {
   "cell_type": "code",
   "execution_count": 35,
   "metadata": {},
   "outputs": [
    {
     "data": {
      "text/plain": [
       "0.8788718885590316"
      ]
     },
     "execution_count": 35,
     "metadata": {},
     "output_type": "execute_result"
    }
   ],
   "source": [
    "CV_rf.best_score_"
   ]
  },
  {
   "cell_type": "code",
   "execution_count": 52,
   "metadata": {},
   "outputs": [
    {
     "data": {
      "text/plain": [
       "<module 'models' from 'c:\\\\Users\\\\elroi\\\\OneDrive\\\\Desktop\\\\DataMining\\\\InformationRetrieval\\\\project\\\\models.py'>"
      ]
     },
     "execution_count": 52,
     "metadata": {},
     "output_type": "execute_result"
    }
   ],
   "source": [
    "from models import RandForest\n",
    "import models\n",
    "import importlib\n",
    "importlib.reload(models)"
   ]
  },
  {
   "cell_type": "code",
   "execution_count": 63,
   "metadata": {},
   "outputs": [
    {
     "name": "stdout",
     "output_type": "stream",
     "text": [
      "RandForest train accuracy: 0.999\n",
      "RandForest test accuracy: 0.878\n",
      "Accuracy: 0.8783783783783784\n",
      "[[579  49]\n",
      " [104 526]]\n",
      "Classification report:\n",
      "               precision    recall  f1-score   support\n",
      "\n",
      "           1       0.85      0.92      0.88       628\n",
      "           2       0.91      0.83      0.87       630\n",
      "\n",
      "    accuracy                           0.88      1258\n",
      "   macro avg       0.88      0.88      0.88      1258\n",
      "weighted avg       0.88      0.88      0.88      1258\n",
      "\n",
      "RandForest train accuracy: 0.999\n",
      "RandForest test accuracy: 0.890\n",
      "Accuracy: 0.890302066772655\n",
      "[[584  44]\n",
      " [ 94 536]]\n",
      "Classification report:\n",
      "               precision    recall  f1-score   support\n",
      "\n",
      "           1       0.86      0.93      0.89       628\n",
      "           2       0.92      0.85      0.89       630\n",
      "\n",
      "    accuracy                           0.89      1258\n",
      "   macro avg       0.89      0.89      0.89      1258\n",
      "weighted avg       0.89      0.89      0.89      1258\n",
      "\n"
     ]
    }
   ],
   "source": [
    "rand_for_best = RandForest(*count_q_feat_vec, n_estimators=250, max_depth=100, min_samples_leaf=1)\n",
    "rand_for_bert_best = RandForest(*count_q_bert_feat_vec, n_estimators=250, max_depth=100, min_samples_leaf=1)"
   ]
  },
  {
   "attachments": {},
   "cell_type": "markdown",
   "metadata": {},
   "source": [
    "sadlly, Overfitting. One more Try:"
   ]
  },
  {
   "cell_type": "code",
   "execution_count": 64,
   "metadata": {},
   "outputs": [
    {
     "name": "stdout",
     "output_type": "stream",
     "text": [
      "RandForest train accuracy: 0.907\n",
      "RandForest test accuracy: 0.878\n",
      "Accuracy: 0.8783783783783784\n",
      "[[593  35]\n",
      " [118 512]]\n",
      "Classification report:\n",
      "               precision    recall  f1-score   support\n",
      "\n",
      "           1       0.83      0.94      0.89       628\n",
      "           2       0.94      0.81      0.87       630\n",
      "\n",
      "    accuracy                           0.88      1258\n",
      "   macro avg       0.89      0.88      0.88      1258\n",
      "weighted avg       0.89      0.88      0.88      1258\n",
      "\n",
      "RandForest train accuracy: 0.910\n",
      "RandForest test accuracy: 0.873\n",
      "Accuracy: 0.8728139904610492\n",
      "[[595  33]\n",
      " [127 503]]\n",
      "Classification report:\n",
      "               precision    recall  f1-score   support\n",
      "\n",
      "           1       0.82      0.95      0.88       628\n",
      "           2       0.94      0.80      0.86       630\n",
      "\n",
      "    accuracy                           0.87      1258\n",
      "   macro avg       0.88      0.87      0.87      1258\n",
      "weighted avg       0.88      0.87      0.87      1258\n",
      "\n"
     ]
    }
   ],
   "source": [
    "rand_for_best = RandForest(*count_q_feat_vec, n_estimators=100, max_depth=25, min_samples_leaf=3)\n",
    "rand_for_bert_best = RandForest(*count_q_bert_feat_vec, n_estimators=100, max_depth=25, min_samples_leaf=3)"
   ]
  },
  {
   "attachments": {},
   "cell_type": "markdown",
   "metadata": {},
   "source": [
    "## TFIDF"
   ]
  },
  {
   "cell_type": "markdown",
   "metadata": {},
   "source": [
    "| Model | Featurs | Train Accuracy | Test Accuracy |\n",
    "| :-: | :-: |:-: | :-: |\n",
    "| Logistic Regression | TF-IDF Questions | 0.838 | 0.820\n",
    "| Logistic Regression | TF-IDF Questions (bert) | 0.902 | 0.862\n",
    "| Logistic Regression | TF-IDF Question + Answers | 0.945 | 0.899\n",
    "| Logistic Regression | TF-IDF Question + Answers (bert) | 0.944 | 0.900\n",
    "| **Random Forest** | **TF-IDF Questions** | **0.987** | **0.877**\n",
    "| **Random Forest** | **TF-IDF Questions (bert)** | **0.989** | **0.877**\n",
    "| Random Forest | TF-IDF Question + Answers | 0.999 | 0.920\n",
    "| **Random Forest** | **TF-IDF Question + Answers (bert)** | **0.999** | **0.919**"
   ]
  },
  {
   "cell_type": "code",
   "execution_count": 66,
   "metadata": {},
   "outputs": [],
   "source": [
    "tfidf_q = df_train_test_split(read_features_file(tfidf_Q))\n",
    "tfidf_q_bert = df_train_test_split(read_features_file(tfidf_Q_bert))\n",
    "tfidf_q_a = df_train_test_split(read_features_file(tfidf_Q_and_A))\n",
    "tfidf_q_a_bert = df_train_test_split(read_features_file(tfidf_Q_and_A_bert))"
   ]
  },
  {
   "cell_type": "code",
   "execution_count": 71,
   "metadata": {},
   "outputs": [],
   "source": [
    "all_features_vectors = [tfidf_q, tfidf_q_bert, tfidf_q_a, tfidf_q_a_bert]\n",
    "all_features_strings = [\"TF-IDF Questions\", \"TF-IDF Questions (bert)\", \"TF-IDF Question + Answers\", \"TF-IDF Question + Answers (bert)\"]"
   ]
  },
  {
   "attachments": {},
   "cell_type": "markdown",
   "metadata": {},
   "source": [
    "### Logistic Regression"
   ]
  },
  {
   "attachments": {},
   "cell_type": "markdown",
   "metadata": {},
   "source": [
    "| Featurs | Train Accuracy | Test Accuracy |\n",
    "| :-: | :-: | :-: |\n",
    "| TF-IDF Questions | 0.838 | 0.820\n",
    "| TF-IDF Questions (bert) | 0.902 | 0.862\n",
    "| TF-IDF Question + Answers | 0.945 | 0.899\n",
    "| TF-IDF Question + Answers (bert) | 0.944 | 0.900"
   ]
  },
  {
   "attachments": {},
   "cell_type": "markdown",
   "metadata": {},
   "source": [
    "| Featurs | Class| precision | recall | f1-score | support\n",
    "| :-: | :-: | :-: | :-: | :-: | :-: |\n",
    "| TF-IDF Questions | 1 | 0.79 | 0.87 | 0.83 | 628\n",
    "|  | 2 | 0.86 | 0.77 | 0.81 | 630\n",
    "|  | avg | 0.82 | 0.82 | 0.82 | 1258 |\n",
    "| TF-IDF Questions (bert) | 1 | 0.83 | 0.92 | 0.87 | 628\n",
    "|  | 2 | 0.91 | 0.81 | 0.85 | 630\n",
    "|  | avg | 0.87 | 0.86 | 0.86 | 1258 |\n",
    "| TF-IDF Question + Answers | 1 | 0.87 | 0.94 | 0.90 | 628\n",
    "|  | 2 | 0.94 | 0.86 | 0.89 | 630\n",
    "|  | avg | 0.90 | 0.90 | 0.90 | 1258 |\n",
    "| TF-IDF Question + Answers (bert) | 1 | 0.87 | 0.94 | 0.90 | 628\n",
    "|  | 2 | 0.94 | 0.86 | 0.90 | 630\n",
    "|  | avg | 0.90 | 0.90 | 0.90 | 1258 |"
   ]
  },
  {
   "cell_type": "code",
   "execution_count": null,
   "metadata": {},
   "outputs": [],
   "source": [
    "log_reg_models = []\n",
    "\n",
    "for feat, name in zip(all_features_vectors, all_features_strings):\n",
    "    print(\"*\"*30 + \" {:^40} \".format(name) + \"*\"*30)\n",
    "    log_reg_models.append(LogReg(*feat))\n"
   ]
  },
  {
   "cell_type": "code",
   "execution_count": 74,
   "metadata": {},
   "outputs": [],
   "source": [
    "import matplotlib.pyplot as plt"
   ]
  },
  {
   "cell_type": "code",
   "execution_count": 73,
   "metadata": {},
   "outputs": [
    {
     "name": "stdout",
     "output_type": "stream",
     "text": [
      "********************   TF-IDF Questions   ********************\n"
     ]
    },
    {
     "data": {
      "image/png": "[encoded data removed]",
      "text/plain": [
       "<Figure size 720x327.273 with 1 Axes>"
      ]
     },
     "metadata": {
      "needs_background": "light"
     },
     "output_type": "display_data"
    },
    {
     "name": "stdout",
     "output_type": "stream",
     "text": [
      "******************** TF-IDF Questions (bert) ********************\n"
     ]
    },
    {
     "data": {
      "image/png": "[encoded data removed]",
      "text/plain": [
       "<Figure size 720x327.273 with 1 Axes>"
      ]
     },
     "metadata": {
      "needs_background": "light"
     },
     "output_type": "display_data"
    },
    {
     "name": "stdout",
     "output_type": "stream",
     "text": [
      "******************** TF-IDF Question + Answers ********************\n"
     ]
    },
    {
     "data": {
      "image/png": "[encoded data removed]",
      "text/plain": [
       "<Figure size 720x327.273 with 1 Axes>"
      ]
     },
     "metadata": {
      "needs_background": "light"
     },
     "output_type": "display_data"
    },
    {
     "name": "stdout",
     "output_type": "stream",
     "text": [
      "******************** TF-IDF Question + Answers (bert) ********************\n"
     ]
    },
    {
     "data": {
      "image/png": "[encoded data removed]",
      "text/plain": [
       "<Figure size 720x327.273 with 1 Axes>"
      ]
     },
     "metadata": {
      "needs_background": "light"
     },
     "output_type": "display_data"
    }
   ],
   "source": [
    "for i in range(4):\n",
    "    print(\"*\"*30 + \" {:^40} \".format(all_features_strings[i]) + \"*\"*30)\n",
    "    plot_features_importance(log_reg_models[i].coef_[0], all_features_vectors[i][0])\n",
    "    plt.show()"
   ]
  },
  {
   "attachments": {},
   "cell_type": "markdown",
   "metadata": {},
   "source": [
    "### Random Forest"
   ]
  },
  {
   "attachments": {},
   "cell_type": "markdown",
   "metadata": {},
   "source": [
    "| Featurs | Train Accuracy | Test Accuracy |\n",
    "| :- | :-: | :-: |\n",
    "| TF-IDF Questions | 0.987 | 0.877\n",
    "| **TF-IDF Questions (bert)** | 0.989 | 0.877\n",
    "| TF-IDF Question + Answers | 0.999 | 0.920\n",
    "| **TF-IDF Question + Answers (bert)** | 0.999 | 0.919"
   ]
  },
  {
   "attachments": {},
   "cell_type": "markdown",
   "metadata": {},
   "source": [
    "| Features | Class| precision | recall | f1-score | support\n",
    "| :- | :-: | :-: | :-: | :-: | :-: |\n",
    "| TF-IDF Questions | 1 | 0.84 | 0.93 | 0.88 | 628\n",
    "|  | 2 | 0.92 | 0.82 | 0.87 | 630\n",
    "|  | avg | 0.88 | 0.88 | 0.88 | 1258\n",
    "| TF-IDF Questions (bert) | 1 | 0.84 | 0.93 | 0.88 | 628\n",
    "|  | 2 | 0.92 | 0.82 | 0.87 | 630\n",
    "|  | avg | 0.88 | 0.88 | 0.88 | 1258\n",
    "| TF-IDF Question + Answers | 1 | 0.89 | 0.96 | 0.92 | 628\n",
    "|  | 2 | 0.96 | 0.88 | 0.92 | 630\n",
    "|  | avg | 0.92 | 0.92 | 0.92 | 1258\n",
    "| TF-IDF Question + Answers (bert) | 1 | 0.89 | 0.96 | 0.92 | 628\n",
    "|  | 2 | 0.95 | 0.88 | 0.92 | 630\n",
    "|  | avg | 0.92 | 0.92 | 0.92 | 1258"
   ]
  },
  {
   "cell_type": "code",
   "execution_count": 75,
   "metadata": {},
   "outputs": [
    {
     "name": "stdout",
     "output_type": "stream",
     "text": [
      "******************************   TF-IDF Questions   ******************************\n",
      "RandForest train accuracy: 0.987\n",
      "RandForest test accuracy: 0.877\n",
      "Accuracy: 0.8767885532591415\n",
      "[[584  44]\n",
      " [111 519]]\n",
      "Classification report:\n",
      "               precision    recall  f1-score   support\n",
      "\n",
      "           1       0.84      0.93      0.88       628\n",
      "           2       0.92      0.82      0.87       630\n",
      "\n",
      "    accuracy                           0.88      1258\n",
      "   macro avg       0.88      0.88      0.88      1258\n",
      "weighted avg       0.88      0.88      0.88      1258\n",
      "\n",
      "****************************** TF-IDF Questions (bert) ******************************\n",
      "RandForest train accuracy: 0.989\n",
      "RandForest test accuracy: 0.877\n",
      "Accuracy: 0.8767885532591415\n",
      "[[585  43]\n",
      " [112 518]]\n",
      "Classification report:\n",
      "               precision    recall  f1-score   support\n",
      "\n",
      "           1       0.84      0.93      0.88       628\n",
      "           2       0.92      0.82      0.87       630\n",
      "\n",
      "    accuracy                           0.88      1258\n",
      "   macro avg       0.88      0.88      0.88      1258\n",
      "weighted avg       0.88      0.88      0.88      1258\n",
      "\n",
      "****************************** TF-IDF Question + Answers ******************************\n",
      "RandForest train accuracy: 0.999\n",
      "RandForest test accuracy: 0.920\n",
      "Accuracy: 0.9197138314785374\n",
      "[[604  24]\n",
      " [ 77 553]]\n",
      "Classification report:\n",
      "               precision    recall  f1-score   support\n",
      "\n",
      "           1       0.89      0.96      0.92       628\n",
      "           2       0.96      0.88      0.92       630\n",
      "\n",
      "    accuracy                           0.92      1258\n",
      "   macro avg       0.92      0.92      0.92      1258\n",
      "weighted avg       0.92      0.92      0.92      1258\n",
      "\n",
      "****************************** TF-IDF Question + Answers (bert) ******************************\n",
      "RandForest train accuracy: 0.999\n",
      "RandForest test accuracy: 0.919\n",
      "Accuracy: 0.918918918918919\n",
      "[[600  28]\n",
      " [ 74 556]]\n",
      "Classification report:\n",
      "               precision    recall  f1-score   support\n",
      "\n",
      "           1       0.89      0.96      0.92       628\n",
      "           2       0.95      0.88      0.92       630\n",
      "\n",
      "    accuracy                           0.92      1258\n",
      "   macro avg       0.92      0.92      0.92      1258\n",
      "weighted avg       0.92      0.92      0.92      1258\n",
      "\n"
     ]
    }
   ],
   "source": [
    "rand_forest_models = []\n",
    "\n",
    "for feat, name in zip(all_features_vectors, all_features_strings):\n",
    "    print(\"*\"*30 + \" {:^40} \".format(name) + \"*\"*30)\n",
    "    rand_forest_models.append(RandForest(*feat, n_estimators=100, max_depth=50))\n"
   ]
  },
  {
   "cell_type": "code",
   "execution_count": 76,
   "metadata": {},
   "outputs": [
    {
     "name": "stdout",
     "output_type": "stream",
     "text": [
      "******************************             TF-IDF Questions             ******************************\n"
     ]
    },
    {
     "data": {
      "image/png": "[encoded data removed]",
      "text/plain": [
       "<Figure size 720x327.273 with 1 Axes>"
      ]
     },
     "metadata": {
      "needs_background": "light"
     },
     "output_type": "display_data"
    },
    {
     "name": "stdout",
     "output_type": "stream",
     "text": [
      "******************************         TF-IDF Questions (bert)          ******************************\n"
     ]
    },
    {
     "data": {
      "image/png": "[encoded data removed]",
      "text/plain": [
       "<Figure size 720x327.273 with 1 Axes>"
      ]
     },
     "metadata": {
      "needs_background": "light"
     },
     "output_type": "display_data"
    },
    {
     "name": "stdout",
     "output_type": "stream",
     "text": [
      "******************************        TF-IDF Question + Answers         ******************************\n"
     ]
    },
    {
     "data": {
      "image/png": "[encoded data removed]",
      "text/plain": [
       "<Figure size 720x327.273 with 1 Axes>"
      ]
     },
     "metadata": {
      "needs_background": "light"
     },
     "output_type": "display_data"
    },
    {
     "name": "stdout",
     "output_type": "stream",
     "text": [
      "******************************     TF-IDF Question + Answers (bert)     ******************************\n"
     ]
    },
    {
     "data": {
      "image/png": "[encoded data removed]",
      "text/plain": [
       "<Figure size 720x327.273 with 1 Axes>"
      ]
     },
     "metadata": {
      "needs_background": "light"
     },
     "output_type": "display_data"
    }
   ],
   "source": [
    "for i in range(4):\n",
    "    print(\"*\"*30 + \" {:^40} \".format(all_features_strings[i]) + \"*\"*30)\n",
    "    plot_features_importance(rand_forest_models[i].feature_importances_, all_features_vectors[i][0])\n",
    "    plt.show()"
   ]
  },
  {
   "attachments": {},
   "cell_type": "markdown",
   "metadata": {},
   "source": [
    "We Can see that **Random Forest** model, with the **TF-IDF Question + Answers** features, Using the **Bert tokenzier**, is the **Best model so far**, with features from the Questions and the Answers.\n",
    "\n",
    "We can also See that **Random Forest** model, with the **TF-IDF Question**, Using the **Bert tokenzier**, is the **Best model** that works only on the persons' self writing.\n",
    "\n",
    "Let's try to make them better:"
   ]
  },
  {
   "cell_type": "code",
   "execution_count": 79,
   "metadata": {},
   "outputs": [
    {
     "data": {
      "text/plain": [
       "<module 'models' from 'c:\\\\Users\\\\elroi\\\\OneDrive\\\\Desktop\\\\DataMining\\\\InformationRetrieval\\\\project\\\\models.py'>"
      ]
     },
     "execution_count": 79,
     "metadata": {},
     "output_type": "execute_result"
    }
   ],
   "source": [
    "from models import RFGSCV\n",
    "import models\n",
    "importlib.reload(models)"
   ]
  },
  {
   "cell_type": "code",
   "execution_count": 80,
   "metadata": {},
   "outputs": [
    {
     "name": "stdout",
     "output_type": "stream",
     "text": [
      "{'max_depth': 75, 'min_samples_leaf': 1, 'n_estimators': 250}\n",
      "63\n",
      "0.9268452579619513\n",
      "RandomForestClassifier(max_depth=75, n_estimators=250, n_jobs=-1,\n",
      "                       random_state=42)\n"
     ]
    },
    {
     "data": {
      "text/html": [
       "<style>#sk-container-id-1 {color: black;background-color: white;}#sk-container-id-1 pre{padding: 0;}#sk-container-id-1 div.sk-toggleable {background-color: white;}#sk-container-id-1 label.sk-toggleable__label {cursor: pointer;display: block;width: 100%;margin-bottom: 0;padding: 0.3em;box-sizing: border-box;text-align: center;}#sk-container-id-1 label.sk-toggleable__label-arrow:before {content: \"▸\";float: left;margin-right: 0.25em;color: #696969;}#sk-container-id-1 label.sk-toggleable__label-arrow:hover:before {color: black;}#sk-container-id-1 div.sk-estimator:hover label.sk-toggleable__label-arrow:before {color: black;}#sk-container-id-1 div.sk-toggleable__content {max-height: 0;max-width: 0;overflow: hidden;text-align: left;background-color: #f0f8ff;}#sk-container-id-1 div.sk-toggleable__content pre {margin: 0.2em;color: black;border-radius: 0.25em;background-color: #f0f8ff;}#sk-container-id-1 input.sk-toggleable__control:checked~div.sk-toggleable__content {max-height: 200px;max-width: 100%;overflow: auto;}#sk-container-id-1 input.sk-toggleable__control:checked~label.sk-toggleable__label-arrow:before {content: \"▾\";}#sk-container-id-1 div.sk-estimator input.sk-toggleable__control:checked~label.sk-toggleable__label {background-color: #d4ebff;}#sk-container-id-1 div.sk-label input.sk-toggleable__control:checked~label.sk-toggleable__label {background-color: #d4ebff;}#sk-container-id-1 input.sk-hidden--visually {border: 0;clip: rect(1px 1px 1px 1px);clip: rect(1px, 1px, 1px, 1px);height: 1px;margin: -1px;overflow: hidden;padding: 0;position: absolute;width: 1px;}#sk-container-id-1 div.sk-estimator {font-family: monospace;background-color: #f0f8ff;border: 1px dotted black;border-radius: 0.25em;box-sizing: border-box;margin-bottom: 0.5em;}#sk-container-id-1 div.sk-estimator:hover {background-color: #d4ebff;}#sk-container-id-1 div.sk-parallel-item::after {content: \"\";width: 100%;border-bottom: 1px solid gray;flex-grow: 1;}#sk-container-id-1 div.sk-label:hover label.sk-toggleable__label {background-color: #d4ebff;}#sk-container-id-1 div.sk-serial::before {content: \"\";position: absolute;border-left: 1px solid gray;box-sizing: border-box;top: 0;bottom: 0;left: 50%;z-index: 0;}#sk-container-id-1 div.sk-serial {display: flex;flex-direction: column;align-items: center;background-color: white;padding-right: 0.2em;padding-left: 0.2em;position: relative;}#sk-container-id-1 div.sk-item {position: relative;z-index: 1;}#sk-container-id-1 div.sk-parallel {display: flex;align-items: stretch;justify-content: center;background-color: white;position: relative;}#sk-container-id-1 div.sk-item::before, #sk-container-id-1 div.sk-parallel-item::before {content: \"\";position: absolute;border-left: 1px solid gray;box-sizing: border-box;top: 0;bottom: 0;left: 50%;z-index: -1;}#sk-container-id-1 div.sk-parallel-item {display: flex;flex-direction: column;z-index: 1;position: relative;background-color: white;}#sk-container-id-1 div.sk-parallel-item:first-child::after {align-self: flex-end;width: 50%;}#sk-container-id-1 div.sk-parallel-item:last-child::after {align-self: flex-start;width: 50%;}#sk-container-id-1 div.sk-parallel-item:only-child::after {width: 0;}#sk-container-id-1 div.sk-dashed-wrapped {border: 1px dashed gray;margin: 0 0.4em 0.5em 0.4em;box-sizing: border-box;padding-bottom: 0.4em;background-color: white;}#sk-container-id-1 div.sk-label label {font-family: monospace;font-weight: bold;display: inline-block;line-height: 1.2em;}#sk-container-id-1 div.sk-label-container {text-align: center;}#sk-container-id-1 div.sk-container {/* jupyter's `normalize.less` sets `[hidden] { display: none; }` but bootstrap.min.css set `[hidden] { display: none !important; }` so we also need the `!important` here to be able to override the default hidden behavior on the sphinx rendered scikit-learn.org. See: https://github.com/scikit-learn/scikit-learn/issues/21755 */display: inline-block !important;position: relative;}#sk-container-id-1 div.sk-text-repr-fallback {display: none;}</style><div id=\"sk-container-id-1\" class=\"sk-top-container\"><div class=\"sk-text-repr-fallback\"><pre>GridSearchCV(estimator=RandomForestClassifier(n_jobs=-1, random_state=42),\n",
       "             param_grid={&#x27;max_depth&#x27;: [5, 25, 50, 75, 100, 200],\n",
       "                         &#x27;min_samples_leaf&#x27;: [1, 5, 10, 20, 40],\n",
       "                         &#x27;n_estimators&#x27;: [10, 50, 100, 250]})</pre><b>In a Jupyter environment, please rerun this cell to show the HTML representation or trust the notebook. <br />On GitHub, the HTML representation is unable to render, please try loading this page with nbviewer.org.</b></div><div class=\"sk-container\" hidden><div class=\"sk-item sk-dashed-wrapped\"><div class=\"sk-label-container\"><div class=\"sk-label sk-toggleable\"><input class=\"sk-toggleable__control sk-hidden--visually\" id=\"sk-estimator-id-1\" type=\"checkbox\" ><label for=\"sk-estimator-id-1\" class=\"sk-toggleable__label sk-toggleable__label-arrow\">GridSearchCV</label><div class=\"sk-toggleable__content\"><pre>GridSearchCV(estimator=RandomForestClassifier(n_jobs=-1, random_state=42),\n",
       "             param_grid={&#x27;max_depth&#x27;: [5, 25, 50, 75, 100, 200],\n",
       "                         &#x27;min_samples_leaf&#x27;: [1, 5, 10, 20, 40],\n",
       "                         &#x27;n_estimators&#x27;: [10, 50, 100, 250]})</pre></div></div></div><div class=\"sk-parallel\"><div class=\"sk-parallel-item\"><div class=\"sk-item\"><div class=\"sk-label-container\"><div class=\"sk-label sk-toggleable\"><input class=\"sk-toggleable__control sk-hidden--visually\" id=\"sk-estimator-id-2\" type=\"checkbox\" ><label for=\"sk-estimator-id-2\" class=\"sk-toggleable__label sk-toggleable__label-arrow\">estimator: RandomForestClassifier</label><div class=\"sk-toggleable__content\"><pre>RandomForestClassifier(n_jobs=-1, random_state=42)</pre></div></div></div><div class=\"sk-serial\"><div class=\"sk-item\"><div class=\"sk-estimator sk-toggleable\"><input class=\"sk-toggleable__control sk-hidden--visually\" id=\"sk-estimator-id-3\" type=\"checkbox\" ><label for=\"sk-estimator-id-3\" class=\"sk-toggleable__label sk-toggleable__label-arrow\">RandomForestClassifier</label><div class=\"sk-toggleable__content\"><pre>RandomForestClassifier(n_jobs=-1, random_state=42)</pre></div></div></div></div></div></div></div></div></div></div>"
      ],
      "text/plain": [
       "GridSearchCV(estimator=RandomForestClassifier(n_jobs=-1, random_state=42),\n",
       "             param_grid={'max_depth': [5, 25, 50, 75, 100, 200],\n",
       "                         'min_samples_leaf': [1, 5, 10, 20, 40],\n",
       "                         'n_estimators': [10, 50, 100, 250]})"
      ]
     },
     "execution_count": 80,
     "metadata": {},
     "output_type": "execute_result"
    }
   ],
   "source": [
    "best_feat = all_features_vectors[3]\n",
    "param_grid = {\n",
    "        \"n_estimators\" : [10, 50, 100, 250],  \n",
    "        \"max_depth\" : [5, 25, 50, 75, 100, 200],  \n",
    "        \"min_samples_leaf\" : [1, 5, 10, 20, 40]\n",
    "    }\n",
    "\n",
    "rfgs_model = RFGSCV(*best_feat, param_grid)"
   ]
  },
  {
   "cell_type": "code",
   "execution_count": 81,
   "metadata": {},
   "outputs": [
    {
     "name": "stdout",
     "output_type": "stream",
     "text": [
      "RandForest train accuracy: 1.000\n",
      "RandForest test accuracy: 0.924\n",
      "Accuracy: 0.9236883942766295\n",
      "[[601  27]\n",
      " [ 69 561]]\n",
      "Classification report:\n",
      "               precision    recall  f1-score   support\n",
      "\n",
      "           1       0.90      0.96      0.93       628\n",
      "           2       0.95      0.89      0.92       630\n",
      "\n",
      "    accuracy                           0.92      1258\n",
      "   macro avg       0.93      0.92      0.92      1258\n",
      "weighted avg       0.93      0.92      0.92      1258\n",
      "\n"
     ]
    }
   ],
   "source": [
    "rand_for_best = RandForest(*best_feat, n_estimators=250, max_depth=75, min_samples_leaf=1)"
   ]
  },
  {
   "attachments": {},
   "cell_type": "markdown",
   "metadata": {},
   "source": [
    "Examine the Questions only Features Model:"
   ]
  },
  {
   "cell_type": "code",
   "execution_count": 82,
   "metadata": {},
   "outputs": [
    {
     "name": "stdout",
     "output_type": "stream",
     "text": [
      "{'max_depth': 200, 'min_samples_leaf': 1, 'n_estimators': 100}\n",
      "102\n",
      "0.8778136912185783\n",
      "RandomForestClassifier(max_depth=200, n_jobs=-1, random_state=42)\n"
     ]
    }
   ],
   "source": [
    "best_feat_q_only = all_features_vectors[1]\n",
    "param_grid = {\n",
    "        \"n_estimators\" : [10, 50, 100, 250],  \n",
    "        \"max_depth\" : [5, 25, 50, 75, 100, 200],  \n",
    "        \"min_samples_leaf\" : [1, 5, 10, 20, 40]\n",
    "    }\n",
    "\n",
    "rfgs_model = RFGSCV(*best_feat_q_only, param_grid)"
   ]
  },
  {
   "cell_type": "code",
   "execution_count": null,
   "metadata": {
    "tags": [
     "parameters"
    ]
   },
   "outputs": [],
   "source": [
    "rand_forest_best_q_only = RandForest(*best_feat_q_only, n_estimators=250, max_depth=75, min_samples_leaf=1)"
   ]
  },
  {
   "cell_type": "markdown",
   "metadata": {},
   "source": [
    "## Results"
   ]
  },
  {
   "cell_type": "markdown",
   "metadata": {},
   "source": [
    "| Model | Featurs | Train Accuracy | Test Accuracy |\n",
    "| :-: | :-: | :-: | :-: |\n",
    "| Logistic Regression | Count Vector Questions | 0.904 | 0.865\n",
    "| **Logistic Regression** | **Count Vector Questions (bert)** | **0.912** | **0.869**\n",
    "| Logistic Regression | Count Vector Questions | 0.933 | 0.864\n",
    "| Logistic Regression | Count Vector Questions (bert) | 0.943 | 0.863\n",
    "| Logistic Regression | Count Vector Questions | 0.887 | 0.852\n",
    "| Logistic Regression CV | Count Vector Questions | 0.908 | 0.855"
   ]
  },
  {
   "cell_type": "markdown",
   "metadata": {},
   "source": [
    "| Model | Featurs | Train Accuracy | Test Accuracy |\n",
    "| :-: | :-: | :-: | :-: |\n",
    "| Random Forest* | Count Vector Questions | 0.842 | 0.829\n",
    "| Random Forest* | Count Vector Questions (bert) | 0.847 | 0.843\n",
    "| Random Forest** | Count Vector Questions | 0.999 | 0.878\n",
    "| Random Forest** | Count Vector Questions (bert) | 0.999 | 0.890\n",
    "| Random Forest*** | Count Vector Questions | 0.907 | 0.878\n",
    "| Random Forest*** | Count Vector Questions (bert) | 0.910 | 0.873\n",
    "\n",
    "* \\* n_estimators=100, max_depth=100, min_samples_leaf=1\n",
    "* \\** n_estimators=250, max_depth=100, min_samples_leaf=1\n",
    "* \\*** n_estimators=100, max_depth=25, min_samples_leaf=3"
   ]
  },
  {
   "cell_type": "markdown",
   "metadata": {},
   "source": [
    "| Model | Featurs | Train Accuracy | Test Accuracy |\n",
    "| :-: | :-: | :-: | :-: |\n",
    "| Logistic Regression | TF-IDF Questions | 0.838 | 0.820\n",
    "| Logistic Regression | TF-IDF Questions (bert) | 0.902 | 0.862\n",
    "| Logistic Regression | TF-IDF Question + Answers | 0.945 | 0.899\n",
    "| Logistic Regression | TF-IDF Question + Answers (bert) | 0.944 | 0.900\n",
    "| **Random Forest\\*** | **TF-IDF Questions** | **0.987** | **0.877**\n",
    "| **Random Forest\\*** | **TF-IDF Questions (bert)** | **0.989** | **0.877**\n",
    "| Random Forest\\* | TF-IDF Question + Answers | 0.999 | 0.920\n",
    "| **Random Forest\\*** | **TF-IDF Question + Answers (bert)** | **0.999** | **0.919**\n",
    "| **Random Forest CV\\*\\*** | **TF-IDF Question + Answers (bert)** | **1.0** | **0.924**\n",
    "\n",
    "* \\* n_estimators=100, max_depth=50\n",
    "* \\** n_estimators=250, max_depth=75, min_samples_leaf=1"
   ]
  },
  {
   "cell_type": "markdown",
   "metadata": {},
   "source": []
  }
 ],
 "metadata": {
  "kernelspec": {
   "display_name": "Python 3",
   "language": "python",
   "name": "python3"
  },
  "language_info": {
   "codemirror_mode": {
    "name": "ipython",
    "version": 3
   },
   "file_extension": ".py",
   "mimetype": "text/x-python",
   "name": "python",
   "nbconvert_exporter": "python",
   "pygments_lexer": "ipython3",
   "version": "3.10.4"
  },
  "orig_nbformat": 4
 },
 "nbformat": 4,
 "nbformat_minor": 2
}
