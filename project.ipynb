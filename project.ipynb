{
 "cells": [
  {
   "attachments": {},
   "cell_type": "markdown",
   "metadata": {},
   "source": [
    "# Text Classification project\n",
    "## Information Retrival course\n",
    "### JCT, Data Science\n",
    "* Name: Elroi Netzer\n",
    "* ID: 208612937\n",
    "* Phone: 0525551587"
   ]
  },
  {
   "cell_type": "code",
   "execution_count": 1,
   "metadata": {},
   "outputs": [],
   "source": [
    "import pandas as pd\n",
    "\n",
    "import matplotlib.pyplot as plt\n",
    "\n",
    "from features_extract import *\n",
    "from models import *"
   ]
  },
  {
   "attachments": {},
   "cell_type": "markdown",
   "metadata": {},
   "source": [
    "## Loading the Data"
   ]
  },
  {
   "cell_type": "code",
   "execution_count": 2,
   "metadata": {},
   "outputs": [],
   "source": [
    "data_file = r\".\\\\chaverim_makshivim-train.xlsx\"\n",
    "data = pd.read_excel(data_file)"
   ]
  },
  {
   "cell_type": "code",
   "execution_count": 3,
   "metadata": {},
   "outputs": [
    {
     "data": {
      "text/html": [
       "<div>\n",
       "<style scoped>\n",
       "    .dataframe tbody tr th:only-of-type {\n",
       "        vertical-align: middle;\n",
       "    }\n",
       "\n",
       "    .dataframe tbody tr th {\n",
       "        vertical-align: top;\n",
       "    }\n",
       "\n",
       "    .dataframe thead th {\n",
       "        text-align: right;\n",
       "    }\n",
       "</style>\n",
       "<table border=\"1\" class=\"dataframe\">\n",
       "  <thead>\n",
       "    <tr style=\"text-align: right;\">\n",
       "      <th></th>\n",
       "      <th>Seq</th>\n",
       "      <th>Site</th>\n",
       "      <th>URL</th>\n",
       "      <th>ID</th>\n",
       "      <th>Hdate</th>\n",
       "      <th>Rabby</th>\n",
       "      <th>Subject</th>\n",
       "      <th>Question</th>\n",
       "      <th>Answer</th>\n",
       "      <th>Tags</th>\n",
       "      <th>...</th>\n",
       "      <th>QuestionLen</th>\n",
       "      <th>AnswerLen</th>\n",
       "      <th>Year</th>\n",
       "      <th>Hyear</th>\n",
       "      <th>Hmonth</th>\n",
       "      <th>Hday</th>\n",
       "      <th>Gender</th>\n",
       "      <th>1 גברים</th>\n",
       "      <th>2 נשים</th>\n",
       "      <th>AnswerGender</th>\n",
       "    </tr>\n",
       "  </thead>\n",
       "  <tbody>\n",
       "    <tr>\n",
       "      <th>0</th>\n",
       "      <td>NaN</td>\n",
       "      <td>כיפה</td>\n",
       "      <td>www.kipa.co.il/ask/show/121227-שנאת-ערבים</td>\n",
       "      <td>121227</td>\n",
       "      <td>ד תמוז תשס\"ז</td>\n",
       "      <td>חברים מקשיבים</td>\n",
       "      <td>שנאת ערבים</td>\n",
       "      <td>\\nשלום לכם, אני נער בן 14 וגר באחת ה\"התנחלויות...</td>\n",
       "      <td>\\nב\"ה\\nד´ שלום!\\nראשית רציתי לומר לך שאני מאוד...</td>\n",
       "      <td>NaN</td>\n",
       "      <td>...</td>\n",
       "      <td>182</td>\n",
       "      <td>1257</td>\n",
       "      <td>2007</td>\n",
       "      <td>תשסז</td>\n",
       "      <td>תמוז</td>\n",
       "      <td>ד</td>\n",
       "      <td>1</td>\n",
       "      <td>NaN</td>\n",
       "      <td>NaN</td>\n",
       "      <td>1.0</td>\n",
       "    </tr>\n",
       "    <tr>\n",
       "      <th>1</th>\n",
       "      <td>NaN</td>\n",
       "      <td>כיפה</td>\n",
       "      <td>www.kipa.co.il/ask/show/296834-ברכת-המזון-ראש-...</td>\n",
       "      <td>296834</td>\n",
       "      <td>א כסליו תשע\"ד</td>\n",
       "      <td>חברים מקשיבים</td>\n",
       "      <td>ברכת המזון ראש חודש</td>\n",
       "      <td>\\nלעיתים יוצא לנו להתחיל את הסעודה בראש חודש ו...</td>\n",
       "      <td>\\nב\"ה\\nשלום וברכה\\nהדבר נתון במחלוקת הפוסקים ה...</td>\n",
       "      <td>NaN</td>\n",
       "      <td>...</td>\n",
       "      <td>286</td>\n",
       "      <td>1095</td>\n",
       "      <td>2013</td>\n",
       "      <td>תשעד</td>\n",
       "      <td>כסליו</td>\n",
       "      <td>א</td>\n",
       "      <td>1</td>\n",
       "      <td>NaN</td>\n",
       "      <td>NaN</td>\n",
       "      <td>1.0</td>\n",
       "    </tr>\n",
       "  </tbody>\n",
       "</table>\n",
       "<p>2 rows × 21 columns</p>\n",
       "</div>"
      ],
      "text/plain": [
       "   Seq  Site                                                URL      ID  \\\n",
       "0  NaN  כיפה          www.kipa.co.il/ask/show/121227-שנאת-ערבים  121227   \n",
       "1  NaN  כיפה  www.kipa.co.il/ask/show/296834-ברכת-המזון-ראש-...  296834   \n",
       "\n",
       "            Hdate          Rabby              Subject  \\\n",
       "0    ד תמוז תשס\"ז  חברים מקשיבים           שנאת ערבים   \n",
       "1   א כסליו תשע\"ד  חברים מקשיבים  ברכת המזון ראש חודש   \n",
       "\n",
       "                                            Question  \\\n",
       "0  \\nשלום לכם, אני נער בן 14 וגר באחת ה\"התנחלויות...   \n",
       "1  \\nלעיתים יוצא לנו להתחיל את הסעודה בראש חודש ו...   \n",
       "\n",
       "                                              Answer Tags  ...  QuestionLen  \\\n",
       "0  \\nב\"ה\\nד´ שלום!\\nראשית רציתי לומר לך שאני מאוד...  NaN  ...          182   \n",
       "1  \\nב\"ה\\nשלום וברכה\\nהדבר נתון במחלוקת הפוסקים ה...  NaN  ...          286   \n",
       "\n",
       "   AnswerLen  Year  Hyear Hmonth Hday Gender  1 גברים  2 נשים  AnswerGender  \n",
       "0       1257  2007   תשסז   תמוז    ד      1      NaN     NaN           1.0  \n",
       "1       1095  2013   תשעד  כסליו    א      1      NaN     NaN           1.0  \n",
       "\n",
       "[2 rows x 21 columns]"
      ]
     },
     "execution_count": 3,
     "metadata": {},
     "output_type": "execute_result"
    }
   ],
   "source": [
    "data.head(2)"
   ]
  },
  {
   "cell_type": "code",
   "execution_count": 4,
   "metadata": {},
   "outputs": [
    {
     "data": {
      "text/plain": [
       "'\\nלעיתים יוצא לנו להתחיל את הסעודה בראש חודש ולסיים אותה בחשכת זאת אומרת שיוצא ראש חודש השאלה האם צריך להזכיר יעלה ויבוא בברכת המזון כי נוצר מצב שהמברך כבר לא בראש חודש כי נכנס לחשכה כשכבר יצא ראש חודש.\\nשאלה שניה מה קורה כאשר ראש חודש נופל בשבת וסעודה שלישית מתארכת לחשכה כשכבר יצא שבת .'"
      ]
     },
     "execution_count": 4,
     "metadata": {},
     "output_type": "execute_result"
    }
   ],
   "source": [
    "data[\"Question\"].iloc[1]"
   ]
  },
  {
   "attachments": {},
   "cell_type": "markdown",
   "metadata": {},
   "source": [
    "## Features Extraction"
   ]
  },
  {
   "attachments": {},
   "cell_type": "markdown",
   "metadata": {},
   "source": [
    "### Pre Processing and Tokenizing:"
   ]
  },
  {
   "cell_type": "code",
   "execution_count": 5,
   "metadata": {},
   "outputs": [],
   "source": [
    "useless_cols = ['Seq', 'Site', 'URL', 'ID', 'Hdate', 'Rabby', 'Subject', 'Tags', 'SubjectLen', 'Year',\n",
    "       'Hyear', 'Hmonth', 'Hday', '1 גברים', '2 נשים']\n",
    "data = data.drop(useless_cols, axis=1)"
   ]
  },
  {
   "cell_type": "code",
   "execution_count": 6,
   "metadata": {},
   "outputs": [
    {
     "data": {
      "text/html": [
       "<div>\n",
       "<style scoped>\n",
       "    .dataframe tbody tr th:only-of-type {\n",
       "        vertical-align: middle;\n",
       "    }\n",
       "\n",
       "    .dataframe tbody tr th {\n",
       "        vertical-align: top;\n",
       "    }\n",
       "\n",
       "    .dataframe thead th {\n",
       "        text-align: right;\n",
       "    }\n",
       "</style>\n",
       "<table border=\"1\" class=\"dataframe\">\n",
       "  <thead>\n",
       "    <tr style=\"text-align: right;\">\n",
       "      <th></th>\n",
       "      <th>Question</th>\n",
       "      <th>Answer</th>\n",
       "      <th>QuestionLen</th>\n",
       "      <th>AnswerLen</th>\n",
       "      <th>Gender</th>\n",
       "      <th>AnswerGender</th>\n",
       "    </tr>\n",
       "  </thead>\n",
       "  <tbody>\n",
       "    <tr>\n",
       "      <th>0</th>\n",
       "      <td>\\nשלום לכם, אני נער בן 14 וגר באחת ה\"התנחלויות...</td>\n",
       "      <td>\\nב\"ה\\nד´ שלום!\\nראשית רציתי לומר לך שאני מאוד...</td>\n",
       "      <td>182</td>\n",
       "      <td>1257</td>\n",
       "      <td>1</td>\n",
       "      <td>1.0</td>\n",
       "    </tr>\n",
       "    <tr>\n",
       "      <th>1</th>\n",
       "      <td>\\nלעיתים יוצא לנו להתחיל את הסעודה בראש חודש ו...</td>\n",
       "      <td>\\nב\"ה\\nשלום וברכה\\nהדבר נתון במחלוקת הפוסקים ה...</td>\n",
       "      <td>286</td>\n",
       "      <td>1095</td>\n",
       "      <td>1</td>\n",
       "      <td>1.0</td>\n",
       "    </tr>\n",
       "  </tbody>\n",
       "</table>\n",
       "</div>"
      ],
      "text/plain": [
       "                                            Question  \\\n",
       "0  \\nשלום לכם, אני נער בן 14 וגר באחת ה\"התנחלויות...   \n",
       "1  \\nלעיתים יוצא לנו להתחיל את הסעודה בראש חודש ו...   \n",
       "\n",
       "                                              Answer  QuestionLen  AnswerLen  \\\n",
       "0  \\nב\"ה\\nד´ שלום!\\nראשית רציתי לומר לך שאני מאוד...          182       1257   \n",
       "1  \\nב\"ה\\nשלום וברכה\\nהדבר נתון במחלוקת הפוסקים ה...          286       1095   \n",
       "\n",
       "   Gender  AnswerGender  \n",
       "0       1           1.0  \n",
       "1       1           1.0  "
      ]
     },
     "execution_count": 6,
     "metadata": {},
     "output_type": "execute_result"
    }
   ],
   "source": [
    "data.head(2)"
   ]
  },
  {
   "cell_type": "code",
   "execution_count": 7,
   "metadata": {},
   "outputs": [
    {
     "name": "stderr",
     "output_type": "stream",
     "text": [
      "Token indices sequence length is longer than the specified maximum sequence length for this model (668 > 512). Running this sequence through the model will result in indexing errors\n"
     ]
    }
   ],
   "source": [
    "create_bert_tokens_columns(data) # Without Stop Words\n",
    "create_bert_tokens_columns(data, False) # With Stop Words"
   ]
  },
  {
   "cell_type": "code",
   "execution_count": 8,
   "metadata": {},
   "outputs": [
    {
     "data": {
      "text/html": [
       "<div>\n",
       "<style scoped>\n",
       "    .dataframe tbody tr th:only-of-type {\n",
       "        vertical-align: middle;\n",
       "    }\n",
       "\n",
       "    .dataframe tbody tr th {\n",
       "        vertical-align: top;\n",
       "    }\n",
       "\n",
       "    .dataframe thead th {\n",
       "        text-align: right;\n",
       "    }\n",
       "</style>\n",
       "<table border=\"1\" class=\"dataframe\">\n",
       "  <thead>\n",
       "    <tr style=\"text-align: right;\">\n",
       "      <th></th>\n",
       "      <th>Question</th>\n",
       "      <th>Answer</th>\n",
       "      <th>QuestionLen</th>\n",
       "      <th>AnswerLen</th>\n",
       "      <th>Gender</th>\n",
       "      <th>AnswerGender</th>\n",
       "      <th>Q_bert_tokens_no_sw</th>\n",
       "      <th>Q_bert_tokens</th>\n",
       "    </tr>\n",
       "  </thead>\n",
       "  <tbody>\n",
       "    <tr>\n",
       "      <th>0</th>\n",
       "      <td>\\nשלום לכם, אני נער בן 14 וגר באחת ה\"התנחלויות...</td>\n",
       "      <td>\\nב\"ה\\nד´ שלום!\\nראשית רציתי לומר לך שאני מאוד...</td>\n",
       "      <td>182</td>\n",
       "      <td>1257</td>\n",
       "      <td>1</td>\n",
       "      <td>1.0</td>\n",
       "      <td>[שלום, נער, בן, וגר, באחת, התנחלויות, אשמח, לד...</td>\n",
       "      <td>[שלום, לכם, אני, נער, בן, וגר, באחת, התנחלויות...</td>\n",
       "    </tr>\n",
       "    <tr>\n",
       "      <th>1</th>\n",
       "      <td>\\nלעיתים יוצא לנו להתחיל את הסעודה בראש חודש ו...</td>\n",
       "      <td>\\nב\"ה\\nשלום וברכה\\nהדבר נתון במחלוקת הפוסקים ה...</td>\n",
       "      <td>286</td>\n",
       "      <td>1095</td>\n",
       "      <td>1</td>\n",
       "      <td>1.0</td>\n",
       "      <td>[לעיתים, יוצא, להתחיל, הסעודה, בראש, חודש, ולס...</td>\n",
       "      <td>[לעיתים, יוצא, לנו, להתחיל, את, הסעודה, בראש, ...</td>\n",
       "    </tr>\n",
       "  </tbody>\n",
       "</table>\n",
       "</div>"
      ],
      "text/plain": [
       "                                            Question  \\\n",
       "0  \\nשלום לכם, אני נער בן 14 וגר באחת ה\"התנחלויות...   \n",
       "1  \\nלעיתים יוצא לנו להתחיל את הסעודה בראש חודש ו...   \n",
       "\n",
       "                                              Answer  QuestionLen  AnswerLen  \\\n",
       "0  \\nב\"ה\\nד´ שלום!\\nראשית רציתי לומר לך שאני מאוד...          182       1257   \n",
       "1  \\nב\"ה\\nשלום וברכה\\nהדבר נתון במחלוקת הפוסקים ה...          286       1095   \n",
       "\n",
       "   Gender  AnswerGender                                Q_bert_tokens_no_sw  \\\n",
       "0       1           1.0  [שלום, נער, בן, וגר, באחת, התנחלויות, אשמח, לד...   \n",
       "1       1           1.0  [לעיתים, יוצא, להתחיל, הסעודה, בראש, חודש, ולס...   \n",
       "\n",
       "                                       Q_bert_tokens  \n",
       "0  [שלום, לכם, אני, נער, בן, וגר, באחת, התנחלויות...  \n",
       "1  [לעיתים, יוצא, לנו, להתחיל, את, הסעודה, בראש, ...  "
      ]
     },
     "execution_count": 8,
     "metadata": {},
     "output_type": "execute_result"
    }
   ],
   "source": [
    "data.head(2)"
   ]
  },
  {
   "attachments": {},
   "cell_type": "markdown",
   "metadata": {},
   "source": [
    "### Vocabulary Creation:"
   ]
  },
  {
   "cell_type": "code",
   "execution_count": 9,
   "metadata": {},
   "outputs": [],
   "source": [
    "q_vocab_above_10 = create_filter_vocab_by_freq(data[\"Q_bert_tokens_no_sw\"], 10)\n",
    "q_vocab_above_50 = create_filter_vocab_by_freq(data[\"Q_bert_tokens_no_sw\"], 50)\n",
    "q_vocab_above_100 = create_filter_vocab_by_freq(data[\"Q_bert_tokens_no_sw\"], 100)"
   ]
  },
  {
   "cell_type": "code",
   "execution_count": 10,
   "metadata": {},
   "outputs": [],
   "source": [
    "q_vocab_above_10_sw = create_filter_vocab_by_freq(data[\"Q_bert_tokens\"], 10)\n",
    "q_vocab_above_50_sw = create_filter_vocab_by_freq(data[\"Q_bert_tokens\"], 50)\n",
    "q_vocab_above_100_sw = create_filter_vocab_by_freq(data[\"Q_bert_tokens\"], 100)"
   ]
  },
  {
   "cell_type": "code",
   "execution_count": 11,
   "metadata": {},
   "outputs": [
    {
     "name": "stdout",
     "output_type": "stream",
     "text": [
      "6779\n",
      "1422\n",
      "688\n",
      "6959\n",
      "1567\n",
      "815\n"
     ]
    }
   ],
   "source": [
    "print(len(q_vocab_above_10))\n",
    "print(len(q_vocab_above_50))\n",
    "print(len(q_vocab_above_100))\n",
    "print(len(q_vocab_above_10_sw))\n",
    "print(len(q_vocab_above_50_sw))\n",
    "print(len(q_vocab_above_100_sw))"
   ]
  },
  {
   "attachments": {},
   "cell_type": "markdown",
   "metadata": {},
   "source": [
    "### Vectorizing using TF-IDF:"
   ]
  },
  {
   "cell_type": "code",
   "execution_count": 12,
   "metadata": {},
   "outputs": [
    {
     "name": "stderr",
     "output_type": "stream",
     "text": [
      "c:\\Users\\elroi\\AppData\\Local\\Programs\\Python\\Python310\\lib\\site-packages\\sklearn\\feature_extraction\\text.py:528: UserWarning: The parameter 'token_pattern' will not be used since 'tokenizer' is not None'\n",
      "  warnings.warn(\n",
      "c:\\Users\\elroi\\AppData\\Local\\Programs\\Python\\Python310\\lib\\site-packages\\sklearn\\feature_extraction\\text.py:528: UserWarning: The parameter 'token_pattern' will not be used since 'tokenizer' is not None'\n",
      "  warnings.warn(\n",
      "c:\\Users\\elroi\\AppData\\Local\\Programs\\Python\\Python310\\lib\\site-packages\\sklearn\\feature_extraction\\text.py:528: UserWarning: The parameter 'token_pattern' will not be used since 'tokenizer' is not None'\n",
      "  warnings.warn(\n"
     ]
    }
   ],
   "source": [
    "tfidf_vect_above_10 = create_tfidf_vector_df(data[\"Q_bert_tokens_no_sw\"], q_vocab_above_10)\n",
    "tfidf_vect_above_50 = create_tfidf_vector_df(data[\"Q_bert_tokens_no_sw\"], q_vocab_above_50)\n",
    "tfidf_vect_above_100 = create_tfidf_vector_df(data[\"Q_bert_tokens_no_sw\"], q_vocab_above_100)"
   ]
  },
  {
   "cell_type": "code",
   "execution_count": 13,
   "metadata": {},
   "outputs": [
    {
     "name": "stderr",
     "output_type": "stream",
     "text": [
      "c:\\Users\\elroi\\AppData\\Local\\Programs\\Python\\Python310\\lib\\site-packages\\sklearn\\feature_extraction\\text.py:528: UserWarning: The parameter 'token_pattern' will not be used since 'tokenizer' is not None'\n",
      "  warnings.warn(\n",
      "c:\\Users\\elroi\\AppData\\Local\\Programs\\Python\\Python310\\lib\\site-packages\\sklearn\\feature_extraction\\text.py:528: UserWarning: The parameter 'token_pattern' will not be used since 'tokenizer' is not None'\n",
      "  warnings.warn(\n",
      "c:\\Users\\elroi\\AppData\\Local\\Programs\\Python\\Python310\\lib\\site-packages\\sklearn\\feature_extraction\\text.py:528: UserWarning: The parameter 'token_pattern' will not be used since 'tokenizer' is not None'\n",
      "  warnings.warn(\n"
     ]
    }
   ],
   "source": [
    "tfidf_vect_above_10_sw = create_tfidf_vector_df(data[\"Q_bert_tokens\"], q_vocab_above_10_sw)\n",
    "tfidf_vect_above_50_sw = create_tfidf_vector_df(data[\"Q_bert_tokens\"], q_vocab_above_50_sw)\n",
    "tfidf_vect_above_100_sw = create_tfidf_vector_df(data[\"Q_bert_tokens\"], q_vocab_above_100_sw)"
   ]
  },
  {
   "cell_type": "code",
   "execution_count": 14,
   "metadata": {},
   "outputs": [
    {
     "name": "stdout",
     "output_type": "stream",
     "text": [
      "   ##א  ##אב  ##אג  ##אד  ##אה  ##או  ##אול  ##אולה  ##אוש  ##אות  ...  תרצה  \\\n",
      "0  0.0   0.0   0.0   0.0   0.0   0.0    0.0     0.0    0.0    0.0  ...   0.0   \n",
      "1  0.0   0.0   0.0   0.0   0.0   0.0    0.0     0.0    0.0    0.0  ...   0.0   \n",
      "\n",
      "   תשובה  תשובות  תשובת  תשומת  תשלחו  תשמ   תת  תתנו  תתפ  \n",
      "0    0.0     0.0    0.0    0.0    0.0  0.0  0.0   0.0  0.0  \n",
      "1    0.0     0.0    0.0    0.0    0.0  0.0  0.0   0.0  0.0  \n",
      "\n",
      "[2 rows x 6779 columns]\n",
      "   ##א  ##אה  ##אות  ##אלה  ##אש  ##אשת  ##את  ##ב  ##בה  ##בו  ...  תמיד  \\\n",
      "0  0.0   0.0    0.0    0.0   0.0    0.0   0.0  0.0   0.0   0.0  ...   0.0   \n",
      "1  0.0   0.0    0.0    0.0   0.0    0.0   0.0  0.0   0.0   0.0  ...   0.0   \n",
      "\n",
      "   תעזרו  תענו  תפילה  תפילות  תפילין  תפילת  תקופה  תשובה  תשובות  \n",
      "0    0.0   0.0    0.0     0.0     0.0    0.0    0.0    0.0     0.0  \n",
      "1    0.0   0.0    0.0     0.0     0.0    0.0    0.0    0.0     0.0  \n",
      "\n",
      "[2 rows x 1422 columns]\n",
      "   ##א  ##ב  ##בר  ##ד  ##ה  ##ו  ##וב  ##וה  ##ול  ##ון  ...  תודה  תוכלו  \\\n",
      "0  0.0  0.0   0.0  0.0  0.0  0.0   0.0   0.0   0.0   0.0  ...   0.0    0.0   \n",
      "1  0.0  0.0   0.0  0.0  0.0  0.0   0.0   0.0   0.0   0.0  ...   0.0    0.0   \n",
      "\n",
      "   תורה  תמיד  תעזרו  תענו  תפילה  תקופה  תשובה  תשובות  \n",
      "0   0.0   0.0    0.0   0.0    0.0    0.0    0.0     0.0  \n",
      "1   0.0   0.0    0.0   0.0    0.0    0.0    0.0     0.0  \n",
      "\n",
      "[2 rows x 688 columns]\n",
      "   ##א  ##אב  ##אג  ##אד  ##אה  ##או  ##אול  ##אולה  ##אוש  ##אות  ...  תרצה  \\\n",
      "0  0.0   0.0   0.0   0.0   0.0   0.0    0.0     0.0    0.0    0.0  ...   0.0   \n",
      "1  0.0   0.0   0.0   0.0   0.0   0.0    0.0     0.0    0.0    0.0  ...   0.0   \n",
      "\n",
      "   תשובה  תשובות  תשובת  תשומת  תשלחו  תשמ   תת  תתנו  תתפ  \n",
      "0    0.0     0.0    0.0    0.0    0.0  0.0  0.0   0.0  0.0  \n",
      "1    0.0     0.0    0.0    0.0    0.0  0.0  0.0   0.0  0.0  \n",
      "\n",
      "[2 rows x 6959 columns]\n",
      "   ##א  ##אה  ##אות  ##אלה  ##אש  ##אשת  ##את  ##ב  ##בה  ##בו  ...  תמיד  \\\n",
      "0  0.0   0.0    0.0    0.0   0.0    0.0   0.0  0.0   0.0   0.0  ...   0.0   \n",
      "1  0.0   0.0    0.0    0.0   0.0    0.0   0.0  0.0   0.0   0.0  ...   0.0   \n",
      "\n",
      "   תעזרו  תענו  תפילה  תפילות  תפילין  תפילת  תקופה  תשובה  תשובות  \n",
      "0    0.0   0.0    0.0     0.0     0.0    0.0    0.0    0.0     0.0  \n",
      "1    0.0   0.0    0.0     0.0     0.0    0.0    0.0    0.0     0.0  \n",
      "\n",
      "[2 rows x 1567 columns]\n",
      "   ##א  ##ב  ##בר  ##ד  ##ה  ##ו  ##וב  ##וה  ##ול  ##ון  ...  תודה  תוכלו  \\\n",
      "0  0.0  0.0   0.0  0.0  0.0  0.0   0.0   0.0   0.0   0.0  ...   0.0    0.0   \n",
      "1  0.0  0.0   0.0  0.0  0.0  0.0   0.0   0.0   0.0   0.0  ...   0.0    0.0   \n",
      "\n",
      "   תורה  תמיד  תעזרו  תענו  תפילה  תקופה  תשובה  תשובות  \n",
      "0   0.0   0.0    0.0   0.0    0.0    0.0    0.0     0.0  \n",
      "1   0.0   0.0    0.0   0.0    0.0    0.0    0.0     0.0  \n",
      "\n",
      "[2 rows x 815 columns]\n"
     ]
    }
   ],
   "source": [
    "print(tfidf_vect_above_10.head(2))\n",
    "print(tfidf_vect_above_50.head(2))\n",
    "print(tfidf_vect_above_100.head(2))\n",
    "print(tfidf_vect_above_10_sw.head(2))\n",
    "print(tfidf_vect_above_50_sw.head(2))\n",
    "print(tfidf_vect_above_100_sw.head(2))\n"
   ]
  },
  {
   "attachments": {},
   "cell_type": "markdown",
   "metadata": {},
   "source": [
    "### Writing features to file:"
   ]
  },
  {
   "cell_type": "code",
   "execution_count": 15,
   "metadata": {},
   "outputs": [],
   "source": [
    "featurs_folder = r\"C:\\\\Users\\\\elroi\\\\OneDrive\\\\Desktop\\\\DataMining\\\\InformationRetrieval\\\\project\\\\features\\\\\"\n",
    "\n",
    "features = [tfidf_vect_above_10, tfidf_vect_above_50, tfidf_vect_above_100,\n",
    "            tfidf_vect_above_10_sw, tfidf_vect_above_50_sw, tfidf_vect_above_100_sw]\n",
    "\n",
    "names = [\"tfidf_vector_above_10_no_sw.csv\",\n",
    "         \"tfidf_vector_above_50_no_sw.csv\",\n",
    "         \"tfidf_vector_above_100_no_sw.csv\",\n",
    "         \"tfidf_vector_above_10.csv\",\n",
    "         \"tfidf_vector_above_50.csv\",\n",
    "         \"tfidf_vector_above_100.csv\"]"
   ]
  },
  {
   "cell_type": "code",
   "execution_count": 16,
   "metadata": {},
   "outputs": [],
   "source": [
    "# for feat, name in zip(features, names):\n",
    "#     data_with_feat = concat_feat_with_data(data, feat)\n",
    "#     write_data_with_feat_to_csv(data_with_feat, featurs_folder, name)"
   ]
  },
  {
   "attachments": {},
   "cell_type": "markdown",
   "metadata": {},
   "source": [
    "## Question Gender Classification"
   ]
  },
  {
   "attachments": {},
   "cell_type": "markdown",
   "metadata": {},
   "source": [
    "### reading the data:"
   ]
  },
  {
   "cell_type": "code",
   "execution_count": 17,
   "metadata": {},
   "outputs": [],
   "source": [
    "feat_above_10 = \"tfidf_vector_above_10_no_sw.csv\"\n",
    "feat_above_50 = \"tfidf_vector_above_50_no_sw.csv\"\n",
    "feat_above_100 = \"tfidf_vector_above_100_no_sw.csv\"\n",
    "\n",
    "feat_above_10_sw = \"tfidf_vector_above_10.csv\"\n",
    "feat_above_50_sw = \"tfidf_vector_above_50.csv\"\n",
    "feat_above_100_sw = \"tfidf_vector_above_100.csv\""
   ]
  },
  {
   "cell_type": "code",
   "execution_count": 18,
   "metadata": {},
   "outputs": [],
   "source": [
    "names = [\"tfidf_vector_above_10_no_sw.csv\",\n",
    "         \"tfidf_vector_above_50_no_sw.csv\",\n",
    "         \"tfidf_vector_above_100_no_sw.csv\",\n",
    "         \"tfidf_vector_above_10.csv\",\n",
    "         \"tfidf_vector_above_50.csv\",\n",
    "         \"tfidf_vector_above_100.csv\"]"
   ]
  },
  {
   "cell_type": "code",
   "execution_count": 19,
   "metadata": {},
   "outputs": [],
   "source": [
    "def read_features_file(path):\n",
    "    df = pd.read_csv(path)\n",
    "    return df.drop([\"Unnamed: 0\"], axis=1)"
   ]
  },
  {
   "attachments": {},
   "cell_type": "markdown",
   "metadata": {},
   "source": [
    "### Train-Test Split"
   ]
  },
  {
   "cell_type": "code",
   "execution_count": 18,
   "metadata": {},
   "outputs": [],
   "source": [
    "features_files = [\"features/{}\".format(i) for i in names]\n",
    "\n",
    "all_features_vectors = [df_train_test_split(read_features_file(ff)) for ff in features_files]\n",
    "all_features_strings = [\"TF-IDF above 10 No SW\", \"TF-IDF above 50 No SW\", \"TF-IDF above 100 No SW\", \"TF-IDF above 10\", \"TF-IDF above 50\", \"TF-IDF above 100\"]"
   ]
  },
  {
   "attachments": {},
   "cell_type": "markdown",
   "metadata": {},
   "source": [
    "### Logistic Regression:"
   ]
  },
  {
   "cell_type": "code",
   "execution_count": 19,
   "metadata": {},
   "outputs": [
    {
     "name": "stdout",
     "output_type": "stream",
     "text": [
      "******************************          TF-IDF above 10 No SW           ******************************\n",
      "LogReg train accuracy: 0.851\n",
      "LogReg test accuracy: 0.819\n",
      "Accuracy: 0.8187599364069952\n",
      "[[560  68]\n",
      " [160 470]]\n",
      "Classification report:\n",
      "               precision    recall  f1-score   support\n",
      "\n",
      "           1       0.78      0.89      0.83       628\n",
      "           2       0.87      0.75      0.80       630\n",
      "\n",
      "    accuracy                           0.82      1258\n",
      "   macro avg       0.83      0.82      0.82      1258\n",
      "weighted avg       0.83      0.82      0.82      1258\n",
      "\n",
      "******************************          TF-IDF above 50 No SW           ******************************\n",
      "LogReg train accuracy: 0.902\n",
      "LogReg test accuracy: 0.862\n",
      "Accuracy: 0.8616852146263911\n",
      "[[575  53]\n",
      " [121 509]]\n",
      "Classification report:\n",
      "               precision    recall  f1-score   support\n",
      "\n",
      "           1       0.83      0.92      0.87       628\n",
      "           2       0.91      0.81      0.85       630\n",
      "\n",
      "    accuracy                           0.86      1258\n",
      "   macro avg       0.87      0.86      0.86      1258\n",
      "weighted avg       0.87      0.86      0.86      1258\n",
      "\n",
      "******************************          TF-IDF above 100 No SW          ******************************\n",
      "LogReg train accuracy: 0.885\n",
      "LogReg test accuracy: 0.862\n",
      "Accuracy: 0.8616852146263911\n",
      "[[571  57]\n",
      " [117 513]]\n",
      "Classification report:\n",
      "               precision    recall  f1-score   support\n",
      "\n",
      "           1       0.83      0.91      0.87       628\n",
      "           2       0.90      0.81      0.85       630\n",
      "\n",
      "    accuracy                           0.86      1258\n",
      "   macro avg       0.86      0.86      0.86      1258\n",
      "weighted avg       0.87      0.86      0.86      1258\n",
      "\n",
      "******************************             TF-IDF above 10              ******************************\n",
      "LogReg train accuracy: 0.909\n",
      "LogReg test accuracy: 0.866\n",
      "Accuracy: 0.8664546899841018\n",
      "[[587  41]\n",
      " [127 503]]\n",
      "Classification report:\n",
      "               precision    recall  f1-score   support\n",
      "\n",
      "           1       0.82      0.93      0.87       628\n",
      "           2       0.92      0.80      0.86       630\n",
      "\n",
      "    accuracy                           0.87      1258\n",
      "   macro avg       0.87      0.87      0.87      1258\n",
      "weighted avg       0.87      0.87      0.87      1258\n",
      "\n",
      "******************************             TF-IDF above 50              ******************************\n",
      "LogReg train accuracy: 0.779\n",
      "LogReg test accuracy: 0.776\n",
      "Accuracy: 0.7758346581875993\n",
      "[[518 110]\n",
      " [172 458]]\n",
      "Classification report:\n",
      "               precision    recall  f1-score   support\n",
      "\n",
      "           1       0.75      0.82      0.79       628\n",
      "           2       0.81      0.73      0.76       630\n",
      "\n",
      "    accuracy                           0.78      1258\n",
      "   macro avg       0.78      0.78      0.78      1258\n",
      "weighted avg       0.78      0.78      0.78      1258\n",
      "\n",
      "******************************             TF-IDF above 100             ******************************\n",
      "LogReg train accuracy: 0.884\n",
      "LogReg test accuracy: 0.864\n",
      "Accuracy: 0.8640699523052464\n",
      "[[578  50]\n",
      " [121 509]]\n",
      "Classification report:\n",
      "               precision    recall  f1-score   support\n",
      "\n",
      "           1       0.83      0.92      0.87       628\n",
      "           2       0.91      0.81      0.86       630\n",
      "\n",
      "    accuracy                           0.86      1258\n",
      "   macro avg       0.87      0.86      0.86      1258\n",
      "weighted avg       0.87      0.86      0.86      1258\n",
      "\n"
     ]
    }
   ],
   "source": [
    "log_reg_models = []\n",
    "\n",
    "for feat, name in zip(all_features_vectors, all_features_strings):\n",
    "    print(\"*\"*30 + \" {:^40} \".format(name) + \"*\"*30)\n",
    "    log_reg_models.append(LogReg(*feat))"
   ]
  },
  {
   "attachments": {},
   "cell_type": "markdown",
   "metadata": {},
   "source": [
    "| Model | Train Accuracy | Test Accuracy |\n",
    "| :- | :-: | :-: |\n",
    "| TF-IDF above 10 No SW | 0.851 | 0.819\n",
    "| **TF-IDF above 50 No SW** | **0.902** | **0.862**\n",
    "| TF-IDF above 100 No SW | 0.885 | 0.862   \n",
    "| **TF-IDF above 10**    | **0.909** | **0.866**\n",
    "| TF-IDF above 50    | 0.779 | 0.776   \n",
    "| TF-IDF above 100   | 0.884 | 0.864"
   ]
  },
  {
   "attachments": {},
   "cell_type": "markdown",
   "metadata": {},
   "source": [
    "|Model | Class| precision | recall | f1-score | support\n",
    "| :-: | :-: | :-: | :-: | :-: | :-: |\n",
    "| TF-IDF above 10 No SW | 1 | 0.78 | 0.89 | 0.83 | 628\n",
    "|  | 2 | 0.87 | 0.75 | 0.80 | 630\n",
    "|  | avg | 0.83 | 0.82 | 0.82 | 1258 |\n",
    "| |\n",
    "| TF-IDF above 50 No SW | 1 | 0.83 | 0.92 | 0.87 | 628\n",
    "|  | 2 | 0.91 | 0.81 | 0.85 | 630\n",
    "|  | avg | 0.87 | 0.86 | 0.86 | 1258 |\n",
    "| |\n",
    "| TF-IDF above 100 No SW | 1 | 0.83 | 0.91 | 0.87 | 628\n",
    "|  | 2 | 0.90 | 0.81 | 0.85 | 630\n",
    "|  | avg | 0.86 | 0.86 | 0.86 | 1258 |\n",
    "| |\n",
    "| TF-IDF above 10 | 1 | 0.82 | 0.93 | 0.87 | 628\n",
    "|  | 2 | 0.92 | 0.80 | 0.86 | 630\n",
    "|  | avg | 0.87 | 0.87 | 0.87 | 1258 |\n",
    "| |\n",
    "| TF-IDF above 50 | 1 | 0.75 | 0.82 | 0.79 | 628\n",
    "|  | 2 | 0.81 | 0.73 | 0.76 | 630\n",
    "|  | avg | 0.78 | 0.78 | 0.78 | 1258 |\n",
    "| |\n",
    "| TF-IDF above 100 | 1 | 0.83 | 0.92 | 0.87 | 628\n",
    "|  | 2 | 0.91 | 0.81 | 0.86 | 630\n",
    "|  | avg | 0.87 | 0.86 | 0.86 | 1258 |\n",
    "| |"
   ]
  },
  {
   "cell_type": "code",
   "execution_count": 21,
   "metadata": {},
   "outputs": [
    {
     "name": "stdout",
     "output_type": "stream",
     "text": [
      "******************************          TF-IDF above 10 No SW           ******************************\n"
     ]
    },
    {
     "data": {
      "image/png": "[encoded data removed]",
      "text/plain": [
       "<Figure size 720x327.273 with 1 Axes>"
      ]
     },
     "metadata": {
      "needs_background": "light"
     },
     "output_type": "display_data"
    },
    {
     "name": "stdout",
     "output_type": "stream",
     "text": [
      "******************************          TF-IDF above 50 No SW           ******************************\n"
     ]
    },
    {
     "data": {
      "image/png": "[encoded data removed]",
      "text/plain": [
       "<Figure size 720x327.273 with 1 Axes>"
      ]
     },
     "metadata": {
      "needs_background": "light"
     },
     "output_type": "display_data"
    },
    {
     "name": "stdout",
     "output_type": "stream",
     "text": [
      "******************************          TF-IDF above 100 No SW          ******************************\n"
     ]
    },
    {
     "data": {
      "image/png": "[encoded data removed]",
      "text/plain": [
       "<Figure size 720x327.273 with 1 Axes>"
      ]
     },
     "metadata": {
      "needs_background": "light"
     },
     "output_type": "display_data"
    },
    {
     "name": "stdout",
     "output_type": "stream",
     "text": [
      "******************************             TF-IDF above 10              ******************************\n"
     ]
    },
    {
     "data": {
      "image/png": "[encoded data removed]",
      "text/plain": [
       "<Figure size 720x327.273 with 1 Axes>"
      ]
     },
     "metadata": {
      "needs_background": "light"
     },
     "output_type": "display_data"
    }
   ],
   "source": [
    "for i in range(4):\n",
    "    print(\"*\"*30 + \" {:^40} \".format(all_features_strings[i]) + \"*\"*30)\n",
    "    plot_features_importance(log_reg_models[i].coef_[0], all_features_vectors[i][0])\n",
    "    plt.show()"
   ]
  },
  {
   "attachments": {},
   "cell_type": "markdown",
   "metadata": {},
   "source": [
    "### Random Forest:"
   ]
  },
  {
   "cell_type": "code",
   "execution_count": 24,
   "metadata": {},
   "outputs": [
    {
     "name": "stdout",
     "output_type": "stream",
     "text": [
      "******************************          TF-IDF above 10 No SW           ******************************\n",
      "RandForest train accuracy: 0.984\n",
      "RandForest test accuracy: 0.880\n",
      "Accuracy: 0.8799682034976153\n",
      "[[587  41]\n",
      " [110 520]]\n",
      "Classification report:\n",
      "               precision    recall  f1-score   support\n",
      "\n",
      "           1       0.84      0.93      0.89       628\n",
      "           2       0.93      0.83      0.87       630\n",
      "\n",
      "    accuracy                           0.88      1258\n",
      "   macro avg       0.88      0.88      0.88      1258\n",
      "weighted avg       0.88      0.88      0.88      1258\n",
      "\n",
      "******************************          TF-IDF above 50 No SW           ******************************\n",
      "RandForest train accuracy: 0.989\n",
      "RandForest test accuracy: 0.877\n",
      "Accuracy: 0.8767885532591415\n",
      "[[585  43]\n",
      " [112 518]]\n",
      "Classification report:\n",
      "               precision    recall  f1-score   support\n",
      "\n",
      "           1       0.84      0.93      0.88       628\n",
      "           2       0.92      0.82      0.87       630\n",
      "\n",
      "    accuracy                           0.88      1258\n",
      "   macro avg       0.88      0.88      0.88      1258\n",
      "weighted avg       0.88      0.88      0.88      1258\n",
      "\n",
      "******************************          TF-IDF above 100 No SW          ******************************\n",
      "RandForest train accuracy: 0.993\n",
      "RandForest test accuracy: 0.872\n",
      "Accuracy: 0.8720190779014309\n",
      "[[584  44]\n",
      " [117 513]]\n",
      "Classification report:\n",
      "               precision    recall  f1-score   support\n",
      "\n",
      "           1       0.83      0.93      0.88       628\n",
      "           2       0.92      0.81      0.86       630\n",
      "\n",
      "    accuracy                           0.87      1258\n",
      "   macro avg       0.88      0.87      0.87      1258\n",
      "weighted avg       0.88      0.87      0.87      1258\n",
      "\n",
      "******************************             TF-IDF above 10              ******************************\n",
      "RandForest train accuracy: 0.994\n",
      "RandForest test accuracy: 0.872\n",
      "Accuracy: 0.8720190779014309\n",
      "[[596  32]\n",
      " [129 501]]\n",
      "Classification report:\n",
      "               precision    recall  f1-score   support\n",
      "\n",
      "           1       0.82      0.95      0.88       628\n",
      "           2       0.94      0.80      0.86       630\n",
      "\n",
      "    accuracy                           0.87      1258\n",
      "   macro avg       0.88      0.87      0.87      1258\n",
      "weighted avg       0.88      0.87      0.87      1258\n",
      "\n",
      "******************************             TF-IDF above 50              ******************************\n",
      "RandForest train accuracy: 0.998\n",
      "RandForest test accuracy: 0.880\n",
      "Accuracy: 0.8799682034976153\n",
      "[[597  31]\n",
      " [120 510]]\n",
      "Classification report:\n",
      "               precision    recall  f1-score   support\n",
      "\n",
      "           1       0.83      0.95      0.89       628\n",
      "           2       0.94      0.81      0.87       630\n",
      "\n",
      "    accuracy                           0.88      1258\n",
      "   macro avg       0.89      0.88      0.88      1258\n",
      "weighted avg       0.89      0.88      0.88      1258\n",
      "\n",
      "******************************             TF-IDF above 100             ******************************\n",
      "RandForest train accuracy: 0.999\n",
      "RandForest test accuracy: 0.882\n",
      "Accuracy: 0.8823529411764706\n",
      "[[594  34]\n",
      " [114 516]]\n",
      "Classification report:\n",
      "               precision    recall  f1-score   support\n",
      "\n",
      "           1       0.84      0.95      0.89       628\n",
      "           2       0.94      0.82      0.87       630\n",
      "\n",
      "    accuracy                           0.88      1258\n",
      "   macro avg       0.89      0.88      0.88      1258\n",
      "weighted avg       0.89      0.88      0.88      1258\n",
      "\n"
     ]
    }
   ],
   "source": [
    "rand_forest_models = []\n",
    "\n",
    "for feat, name in zip(all_features_vectors, all_features_strings):\n",
    "    print(\"*\"*30 + \" {:^40} \".format(name) + \"*\"*30)\n",
    "    rand_forest_models.append(RandForest(*feat, n_estimators=100, max_depth=50))"
   ]
  },
  {
   "attachments": {},
   "cell_type": "markdown",
   "metadata": {},
   "source": [
    "#### Random Forest Results:\n",
    "\n",
    "| Model | Train Accuracy | Test Accuracy |\n",
    "| :- | :-: | :-: |\n",
    "| TF-IDF above 10 No SW | 0.984 | 0.880\n",
    "| TF-IDF above 50 No SW | 0.989 | 0.877\n",
    "| TF-IDF above 100 No SW | 0.993 | 0.872\n",
    "| TF-IDF above 10    | 0.994 | 0.872\n",
    "| TF-IDF above 50    | 0.998 | 0.880\n",
    "| TF-IDF above 100   | 0.999 | 0.882\n",
    "  "
   ]
  },
  {
   "attachments": {},
   "cell_type": "markdown",
   "metadata": {},
   "source": [
    "we can see that all models are overfitting. examining the strongest features:"
   ]
  },
  {
   "cell_type": "code",
   "execution_count": 24,
   "metadata": {},
   "outputs": [
    {
     "name": "stdout",
     "output_type": "stream",
     "text": [
      "******************************          TF-IDF above 10 No SW           ******************************\n"
     ]
    },
    {
     "data": {
      "image/png": "[encoded data removed]",
      "text/plain": [
       "<Figure size 720x327.273 with 1 Axes>"
      ]
     },
     "metadata": {
      "needs_background": "light"
     },
     "output_type": "display_data"
    },
    {
     "name": "stdout",
     "output_type": "stream",
     "text": [
      "******************************          TF-IDF above 50 No SW           ******************************\n"
     ]
    },
    {
     "data": {
      "image/png": "[encoded data removed]",
      "text/plain": [
       "<Figure size 720x327.273 with 1 Axes>"
      ]
     },
     "metadata": {
      "needs_background": "light"
     },
     "output_type": "display_data"
    },
    {
     "name": "stdout",
     "output_type": "stream",
     "text": [
      "******************************          TF-IDF above 100 No SW          ******************************\n"
     ]
    },
    {
     "data": {
      "image/png": "[encoded data removed]",
      "text/plain": [
       "<Figure size 720x327.273 with 1 Axes>"
      ]
     },
     "metadata": {
      "needs_background": "light"
     },
     "output_type": "display_data"
    },
    {
     "name": "stdout",
     "output_type": "stream",
     "text": [
      "******************************             TF-IDF above 10              ******************************\n"
     ]
    },
    {
     "data": {
      "image/png": "[encoded data removed]",
      "text/plain": [
       "<Figure size 720x327.273 with 1 Axes>"
      ]
     },
     "metadata": {
      "needs_background": "light"
     },
     "output_type": "display_data"
    },
    {
     "name": "stdout",
     "output_type": "stream",
     "text": [
      "******************************             TF-IDF above 50              ******************************\n"
     ]
    },
    {
     "data": {
      "image/png": "[encoded data removed]",
      "text/plain": [
       "<Figure size 720x327.273 with 1 Axes>"
      ]
     },
     "metadata": {
      "needs_background": "light"
     },
     "output_type": "display_data"
    },
    {
     "name": "stdout",
     "output_type": "stream",
     "text": [
      "******************************             TF-IDF above 100             ******************************\n"
     ]
    },
    {
     "data": {
      "image/png": "[encoded data removed]",
      "text/plain": [
       "<Figure size 720x327.273 with 1 Axes>"
      ]
     },
     "metadata": {
      "needs_background": "light"
     },
     "output_type": "display_data"
    }
   ],
   "source": [
    "for i in range(len(all_features_strings)):\n",
    "    print(\"*\"*30 + \" {:^40} \".format(all_features_strings[i]) + \"*\"*30)\n",
    "    plot_features_importance(rand_forest_models[i].feature_importances_, all_features_vectors[i][0])\n",
    "    plt.show()"
   ]
  },
  {
   "cell_type": "markdown",
   "metadata": {},
   "source": [
    "#### Handling RF Overfitting:"
   ]
  },
  {
   "cell_type": "code",
   "execution_count": 25,
   "metadata": {},
   "outputs": [
    {
     "name": "stdout",
     "output_type": "stream",
     "text": [
      "{'max_depth': 75, 'min_samples_leaf': 1, 'n_estimators': 100}\n",
      "29\n",
      "0.9351002876773237\n",
      "RandomForestClassifier(max_depth=75, n_jobs=-1, random_state=42)\n"
     ]
    }
   ],
   "source": [
    "best_feat_q_only = all_features_vectors[4] # Tfidf above 50\n",
    "param_grid = {\n",
    "        \"n_estimators\" : [10, 50, 100],  \n",
    "        \"max_depth\" : [5, 25, 50, 75],  \n",
    "        \"min_samples_leaf\" : [1, 5, 10]\n",
    "    }\n",
    "\n",
    "rfgs_model = RFGSCV(*best_feat_q_only, param_grid)"
   ]
  },
  {
   "cell_type": "code",
   "execution_count": 36,
   "metadata": {},
   "outputs": [
    {
     "name": "stdout",
     "output_type": "stream",
     "text": [
      "RandForest train accuracy: 1.000\n",
      "RandForest test accuracy: 0.885\n",
      "Accuracy: 0.884737678855326\n",
      "[[595  33]\n",
      " [112 518]]\n",
      "Classification report:\n",
      "               precision    recall  f1-score   support\n",
      "\n",
      "           1       0.84      0.95      0.89       628\n",
      "           2       0.94      0.82      0.88       630\n",
      "\n",
      "    accuracy                           0.88      1258\n",
      "   macro avg       0.89      0.88      0.88      1258\n",
      "weighted avg       0.89      0.88      0.88      1258\n",
      "\n"
     ]
    }
   ],
   "source": [
    "best_model_on_tfidf_above_50 = RandForest(*best_feat_q_only, n_estimators=100, max_depth=75, min_samples_leaf=1)"
   ]
  },
  {
   "cell_type": "code",
   "execution_count": 38,
   "metadata": {},
   "outputs": [
    {
     "data": {
      "image/png": "[encoded data removed]",
      "text/plain": [
       "<Figure size 720x327.273 with 1 Axes>"
      ]
     },
     "metadata": {
      "needs_background": "light"
     },
     "output_type": "display_data"
    }
   ],
   "source": [
    "plot_features_importance(best_model_on_tfidf_above_50.feature_importances_, best_feat_q_only[0])"
   ]
  },
  {
   "cell_type": "markdown",
   "metadata": {},
   "source": [
    "#### Evaluating the model against Answers Data"
   ]
  },
  {
   "cell_type": "code",
   "execution_count": 20,
   "metadata": {},
   "outputs": [],
   "source": [
    "from features_extract import create_bert_tokens_columns_answer"
   ]
  },
  {
   "cell_type": "code",
   "execution_count": 21,
   "metadata": {},
   "outputs": [],
   "source": [
    "data_file = r\".\\\\chaverim_makshivim-train.xlsx\"\n",
    "data2 = pd.read_excel(data_file)"
   ]
  },
  {
   "cell_type": "code",
   "execution_count": 22,
   "metadata": {},
   "outputs": [],
   "source": [
    "useless_cols = ['Seq', 'Site', 'URL', 'ID', 'Hdate', 'Rabby', 'Subject', 'Tags', 'SubjectLen', 'Year',\n",
    "       'Hyear', 'Hmonth', 'Hday', '1 גברים', '2 נשים']\n",
    "data2 = data2.drop(useless_cols, axis=1)"
   ]
  },
  {
   "cell_type": "code",
   "execution_count": 24,
   "metadata": {},
   "outputs": [
    {
     "data": {
      "text/html": [
       "<div>\n",
       "<style scoped>\n",
       "    .dataframe tbody tr th:only-of-type {\n",
       "        vertical-align: middle;\n",
       "    }\n",
       "\n",
       "    .dataframe tbody tr th {\n",
       "        vertical-align: top;\n",
       "    }\n",
       "\n",
       "    .dataframe thead th {\n",
       "        text-align: right;\n",
       "    }\n",
       "</style>\n",
       "<table border=\"1\" class=\"dataframe\">\n",
       "  <thead>\n",
       "    <tr style=\"text-align: right;\">\n",
       "      <th></th>\n",
       "      <th>Question</th>\n",
       "      <th>Answer</th>\n",
       "      <th>QuestionLen</th>\n",
       "      <th>AnswerLen</th>\n",
       "      <th>Gender</th>\n",
       "      <th>AnswerGender</th>\n",
       "    </tr>\n",
       "  </thead>\n",
       "  <tbody>\n",
       "    <tr>\n",
       "      <th>0</th>\n",
       "      <td>\\nשלום לכם, אני נער בן 14 וגר באחת ה\"התנחלויות...</td>\n",
       "      <td>\\nב\"ה\\nד´ שלום!\\nראשית רציתי לומר לך שאני מאוד...</td>\n",
       "      <td>182</td>\n",
       "      <td>1257</td>\n",
       "      <td>1</td>\n",
       "      <td>1.0</td>\n",
       "    </tr>\n",
       "    <tr>\n",
       "      <th>1</th>\n",
       "      <td>\\nלעיתים יוצא לנו להתחיל את הסעודה בראש חודש ו...</td>\n",
       "      <td>\\nב\"ה\\nשלום וברכה\\nהדבר נתון במחלוקת הפוסקים ה...</td>\n",
       "      <td>286</td>\n",
       "      <td>1095</td>\n",
       "      <td>1</td>\n",
       "      <td>1.0</td>\n",
       "    </tr>\n",
       "    <tr>\n",
       "      <th>2</th>\n",
       "      <td>\\nא ישר כח על האתר!\\nאיך אפשר לנצל את החופש בצ...</td>\n",
       "      <td>\\nלק\"י\\n\\nשלום לך \\nראשית, תודה על המילים החמו...</td>\n",
       "      <td>198</td>\n",
       "      <td>767</td>\n",
       "      <td>1</td>\n",
       "      <td>1.0</td>\n",
       "    </tr>\n",
       "  </tbody>\n",
       "</table>\n",
       "</div>"
      ],
      "text/plain": [
       "                                            Question  \\\n",
       "0  \\nשלום לכם, אני נער בן 14 וגר באחת ה\"התנחלויות...   \n",
       "1  \\nלעיתים יוצא לנו להתחיל את הסעודה בראש חודש ו...   \n",
       "2  \\nא ישר כח על האתר!\\nאיך אפשר לנצל את החופש בצ...   \n",
       "\n",
       "                                              Answer  QuestionLen  AnswerLen  \\\n",
       "0  \\nב\"ה\\nד´ שלום!\\nראשית רציתי לומר לך שאני מאוד...          182       1257   \n",
       "1  \\nב\"ה\\nשלום וברכה\\nהדבר נתון במחלוקת הפוסקים ה...          286       1095   \n",
       "2  \\nלק\"י\\n\\nשלום לך \\nראשית, תודה על המילים החמו...          198        767   \n",
       "\n",
       "   Gender  AnswerGender  \n",
       "0       1           1.0  \n",
       "1       1           1.0  \n",
       "2       1           1.0  "
      ]
     },
     "execution_count": 24,
     "metadata": {},
     "output_type": "execute_result"
    }
   ],
   "source": [
    "data2.head(3)"
   ]
  },
  {
   "cell_type": "code",
   "execution_count": 25,
   "metadata": {},
   "outputs": [],
   "source": [
    "create_bert_tokens_columns_answer(data2)\n",
    "create_bert_tokens_columns_answer(data2, sw = False)"
   ]
  },
  {
   "cell_type": "code",
   "execution_count": 26,
   "metadata": {},
   "outputs": [
    {
     "data": {
      "text/html": [
       "<div>\n",
       "<style scoped>\n",
       "    .dataframe tbody tr th:only-of-type {\n",
       "        vertical-align: middle;\n",
       "    }\n",
       "\n",
       "    .dataframe tbody tr th {\n",
       "        vertical-align: top;\n",
       "    }\n",
       "\n",
       "    .dataframe thead th {\n",
       "        text-align: right;\n",
       "    }\n",
       "</style>\n",
       "<table border=\"1\" class=\"dataframe\">\n",
       "  <thead>\n",
       "    <tr style=\"text-align: right;\">\n",
       "      <th></th>\n",
       "      <th>Question</th>\n",
       "      <th>Answer</th>\n",
       "      <th>QuestionLen</th>\n",
       "      <th>AnswerLen</th>\n",
       "      <th>Gender</th>\n",
       "      <th>AnswerGender</th>\n",
       "      <th>A_bert_tokens_no_sw</th>\n",
       "      <th>A_bert_tokens</th>\n",
       "    </tr>\n",
       "  </thead>\n",
       "  <tbody>\n",
       "    <tr>\n",
       "      <th>0</th>\n",
       "      <td>\\nשלום לכם, אני נער בן 14 וגר באחת ה\"התנחלויות...</td>\n",
       "      <td>\\nב\"ה\\nד´ שלום!\\nראשית רציתי לומר לך שאני מאוד...</td>\n",
       "      <td>182</td>\n",
       "      <td>1257</td>\n",
       "      <td>1</td>\n",
       "      <td>1.0</td>\n",
       "      <td>[שלום, ראשית, רציתי, לומר, לך, שאני, מבין, תחו...</td>\n",
       "      <td>[שלום, ראשית, רציתי, לומר, לך, שאני, מאוד, מבי...</td>\n",
       "    </tr>\n",
       "    <tr>\n",
       "      <th>1</th>\n",
       "      <td>\\nלעיתים יוצא לנו להתחיל את הסעודה בראש חודש ו...</td>\n",
       "      <td>\\nב\"ה\\nשלום וברכה\\nהדבר נתון במחלוקת הפוסקים ה...</td>\n",
       "      <td>286</td>\n",
       "      <td>1095</td>\n",
       "      <td>1</td>\n",
       "      <td>1.0</td>\n",
       "      <td>[שלום, וברכה, הדבר, נתון, במחלוקת, הפוסקים, הא...</td>\n",
       "      <td>[שלום, וברכה, הדבר, נתון, במחלוקת, הפוסקים, הא...</td>\n",
       "    </tr>\n",
       "  </tbody>\n",
       "</table>\n",
       "</div>"
      ],
      "text/plain": [
       "                                            Question  \\\n",
       "0  \\nשלום לכם, אני נער בן 14 וגר באחת ה\"התנחלויות...   \n",
       "1  \\nלעיתים יוצא לנו להתחיל את הסעודה בראש חודש ו...   \n",
       "\n",
       "                                              Answer  QuestionLen  AnswerLen  \\\n",
       "0  \\nב\"ה\\nד´ שלום!\\nראשית רציתי לומר לך שאני מאוד...          182       1257   \n",
       "1  \\nב\"ה\\nשלום וברכה\\nהדבר נתון במחלוקת הפוסקים ה...          286       1095   \n",
       "\n",
       "   Gender  AnswerGender                                A_bert_tokens_no_sw  \\\n",
       "0       1           1.0  [שלום, ראשית, רציתי, לומר, לך, שאני, מבין, תחו...   \n",
       "1       1           1.0  [שלום, וברכה, הדבר, נתון, במחלוקת, הפוסקים, הא...   \n",
       "\n",
       "                                       A_bert_tokens  \n",
       "0  [שלום, ראשית, רציתי, לומר, לך, שאני, מאוד, מבי...  \n",
       "1  [שלום, וברכה, הדבר, נתון, במחלוקת, הפוסקים, הא...  "
      ]
     },
     "execution_count": 26,
     "metadata": {},
     "output_type": "execute_result"
    }
   ],
   "source": [
    "data2.head(2)"
   ]
  },
  {
   "cell_type": "markdown",
   "metadata": {},
   "source": [
    "Note thar we are using the vocabularies created earlier:"
   ]
  },
  {
   "cell_type": "code",
   "execution_count": 27,
   "metadata": {},
   "outputs": [
    {
     "name": "stderr",
     "output_type": "stream",
     "text": [
      "c:\\Users\\elroi\\AppData\\Local\\Programs\\Python\\Python310\\lib\\site-packages\\sklearn\\feature_extraction\\text.py:528: UserWarning: The parameter 'token_pattern' will not be used since 'tokenizer' is not None'\n",
      "  warnings.warn(\n",
      "c:\\Users\\elroi\\AppData\\Local\\Programs\\Python\\Python310\\lib\\site-packages\\sklearn\\feature_extraction\\text.py:528: UserWarning: The parameter 'token_pattern' will not be used since 'tokenizer' is not None'\n",
      "  warnings.warn(\n",
      "c:\\Users\\elroi\\AppData\\Local\\Programs\\Python\\Python310\\lib\\site-packages\\sklearn\\feature_extraction\\text.py:528: UserWarning: The parameter 'token_pattern' will not be used since 'tokenizer' is not None'\n",
      "  warnings.warn(\n",
      "c:\\Users\\elroi\\AppData\\Local\\Programs\\Python\\Python310\\lib\\site-packages\\sklearn\\feature_extraction\\text.py:528: UserWarning: The parameter 'token_pattern' will not be used since 'tokenizer' is not None'\n",
      "  warnings.warn(\n",
      "c:\\Users\\elroi\\AppData\\Local\\Programs\\Python\\Python310\\lib\\site-packages\\sklearn\\feature_extraction\\text.py:528: UserWarning: The parameter 'token_pattern' will not be used since 'tokenizer' is not None'\n",
      "  warnings.warn(\n",
      "c:\\Users\\elroi\\AppData\\Local\\Programs\\Python\\Python310\\lib\\site-packages\\sklearn\\feature_extraction\\text.py:528: UserWarning: The parameter 'token_pattern' will not be used since 'tokenizer' is not None'\n",
      "  warnings.warn(\n"
     ]
    }
   ],
   "source": [
    "tfidf_a_vect_above_10_sw = create_tfidf_vector_df(data2[\"A_bert_tokens\"], q_vocab_above_10_sw)\n",
    "tfidf_a_vect_above_50_sw = create_tfidf_vector_df(data2[\"A_bert_tokens\"], q_vocab_above_50_sw)\n",
    "tfidf_a_vect_above_100_sw = create_tfidf_vector_df(data2[\"A_bert_tokens\"], q_vocab_above_100_sw)\n",
    "tfidf_a_vect_above_10 = create_tfidf_vector_df(data2[\"A_bert_tokens_no_sw\"], q_vocab_above_10)\n",
    "tfidf_a_vect_above_50 = create_tfidf_vector_df(data2[\"A_bert_tokens_no_sw\"], q_vocab_above_50)\n",
    "tfidf_a_vect_above_100 = create_tfidf_vector_df(data2[\"A_bert_tokens_no_sw\"], q_vocab_above_100)"
   ]
  },
  {
   "cell_type": "code",
   "execution_count": 28,
   "metadata": {},
   "outputs": [
    {
     "name": "stdout",
     "output_type": "stream",
     "text": [
      "(5031, 6959)\n",
      "(5031, 1567)\n",
      "(5031, 815)\n",
      "(5031, 6779)\n",
      "(5031, 1422)\n",
      "(5031, 688)\n"
     ]
    }
   ],
   "source": [
    "print(tfidf_a_vect_above_10_sw.shape)\n",
    "print(tfidf_a_vect_above_50_sw.shape)\n",
    "print(tfidf_a_vect_above_100_sw.shape)\n",
    "print(tfidf_a_vect_above_10.shape)\n",
    "print(tfidf_a_vect_above_50.shape)\n",
    "print(tfidf_a_vect_above_100.shape)"
   ]
  },
  {
   "cell_type": "code",
   "execution_count": 34,
   "metadata": {},
   "outputs": [],
   "source": [
    "featurs_folder = r\"C:\\\\Users\\\\elroi\\\\OneDrive\\\\Desktop\\\\DataMining\\\\InformationRetrieval\\\\project\\\\features\\\\\"\n",
    "\n",
    "a_features = [tfidf_a_vect_above_10_sw, tfidf_a_vect_above_50_sw, tfidf_a_vect_above_100_sw, \n",
    "            tfidf_a_vect_above_10, tfidf_a_vect_above_50, tfidf_a_vect_above_100]\n",
    "\n",
    "a_names = [\"tfidf_a_vect_above_10_sw.csv\",\n",
    "         \"tfidf_a_vect_above_50_sw.csv\",\n",
    "         \"tfidf_a_vect_above_100_sw.csv\",\n",
    "         \"tfidf_a_vect_above_10.csv\",\n",
    "         \"tfidf_a_vect_above_50.csv\",\n",
    "         \"tfidf_a_vect_above_100.csv\"]"
   ]
  },
  {
   "cell_type": "code",
   "execution_count": 35,
   "metadata": {},
   "outputs": [],
   "source": [
    "def concat_a_feat_with_data(data, feat_df):\n",
    "    col_from_data = [\"Question\", \"Answer\", \"QuestionLen\", \"AnswerLen\", \"Gender\", \"AnswerGender\"]\n",
    "    data_with_feat = pd.concat([data[col_from_data], feat_df], axis=1).dropna()\n",
    "    data_with_feat = data_with_feat.astype({\"AnswerGender\": 'int'})\n",
    "    return data_with_feat"
   ]
  },
  {
   "cell_type": "code",
   "execution_count": 36,
   "metadata": {},
   "outputs": [],
   "source": [
    "def write_data_with_feat_to_csv(df, folder, file_name):\n",
    "    df.to_csv(folder + file_name)"
   ]
  },
  {
   "cell_type": "code",
   "execution_count": 37,
   "metadata": {},
   "outputs": [],
   "source": [
    "dfs = [concat_a_feat_with_data(data, f) for f in a_features]"
   ]
  },
  {
   "cell_type": "code",
   "execution_count": 44,
   "metadata": {},
   "outputs": [
    {
     "name": "stdout",
     "output_type": "stream",
     "text": [
      "count    64.000000\n",
      "mean      1.328125\n",
      "std       0.473242\n",
      "min       1.000000\n",
      "25%       1.000000\n",
      "50%       1.000000\n",
      "75%       2.000000\n",
      "max       2.000000\n",
      "Name: AnswerGender, dtype: float64\n",
      "count    64.000000\n",
      "mean      1.328125\n",
      "std       0.473242\n",
      "min       1.000000\n",
      "25%       1.000000\n",
      "50%       1.000000\n",
      "75%       2.000000\n",
      "max       2.000000\n",
      "Name: AnswerGender, dtype: float64\n",
      "count    64.000000\n",
      "mean      1.328125\n",
      "std       0.473242\n",
      "min       1.000000\n",
      "25%       1.000000\n",
      "50%       1.000000\n",
      "75%       2.000000\n",
      "max       2.000000\n",
      "Name: AnswerGender, dtype: float64\n",
      "count    64.000000\n",
      "mean      1.328125\n",
      "std       0.473242\n",
      "min       1.000000\n",
      "25%       1.000000\n",
      "50%       1.000000\n",
      "75%       2.000000\n",
      "max       2.000000\n",
      "Name: AnswerGender, dtype: float64\n",
      "count    64.000000\n",
      "mean      1.328125\n",
      "std       0.473242\n",
      "min       1.000000\n",
      "25%       1.000000\n",
      "50%       1.000000\n",
      "75%       2.000000\n",
      "max       2.000000\n",
      "Name: AnswerGender, dtype: float64\n",
      "count    64.000000\n",
      "mean      1.328125\n",
      "std       0.473242\n",
      "min       1.000000\n",
      "25%       1.000000\n",
      "50%       1.000000\n",
      "75%       2.000000\n",
      "max       2.000000\n",
      "Name: AnswerGender, dtype: float64\n"
     ]
    }
   ],
   "source": [
    "for df in dfs:\n",
    "    print(df.shape)"
   ]
  },
  {
   "cell_type": "code",
   "execution_count": 45,
   "metadata": {},
   "outputs": [],
   "source": [
    "for df, name in zip(dfs, a_names):\n",
    "    write_data_with_feat_to_csv(df, featurs_folder, name)"
   ]
  },
  {
   "cell_type": "code",
   "execution_count": 46,
   "metadata": {},
   "outputs": [],
   "source": [
    "def get_x_a(df):\n",
    "    return df.drop([\"Question\", \"Answer\", \"Gender\", \"AnswerGender\"], axis=1)\n",
    "\n",
    "def get_y_a(df):\n",
    "    return df[\"AnswerGender\"]\n",
    "\n",
    "def df_train_test_split_a(df):\n",
    "    X = get_x_a(df)\n",
    "    Y = get_y_a(df)\n",
    "\n",
    "    X_train, X_test, y_train, y_test = train_test_split(\n",
    "        X, \n",
    "        Y, \n",
    "        test_size = 0.25, \n",
    "        stratify=Y, \n",
    "        random_state=42\n",
    "    )\n",
    "\n",
    "    return X_train, X_test, y_train, y_test"
   ]
  },
  {
   "cell_type": "code",
   "execution_count": 47,
   "metadata": {},
   "outputs": [],
   "source": [
    "a_features_files = [\"features/{}\".format(i) for i in a_names]\n",
    "\n",
    "all_a_features_vectors = [df_train_test_split_a(read_features_file(ff)) for ff in a_features_files]\n",
    "all_a_features_strings = [\"Answers TF-IDF above 10 No SW\", \"Answers TF-IDF above 50 No SW\", \"Answers TF-IDF above 100 No SW\", \"Answers TF-IDF above 10\", \"Answers TF-IDF above 50\", \"Answers TF-IDF above 100\"]"
   ]
  },
  {
   "cell_type": "code",
   "execution_count": 49,
   "metadata": {},
   "outputs": [
    {
     "data": {
      "text/plain": [
       "[(48, 6961), (48, 1569), (48, 817), (48, 6781), (48, 1424), (48, 690)]"
      ]
     },
     "execution_count": 49,
     "metadata": {},
     "output_type": "execute_result"
    }
   ],
   "source": [
    "[f[0].shape for f in all_a_features_vectors]"
   ]
  },
  {
   "cell_type": "markdown",
   "metadata": {},
   "source": [
    "#### Random Forest Results On Answers:\n",
    "\n",
    "| Model | Train Accuracy | Test Accuracy | Answers Train Accuracy | Answers Test Accuracy\n",
    "| :- | :-: | :-: | :-: | :-: |\n",
    "| TF-IDF above 10 No SW | 0.984 | 0.880 | 1.000 | 0.688\n",
    "| TF-IDF above 50 No SW | 0.989 | 0.877 | 1.000 | 0.625\n",
    "| TF-IDF above 100 No SW | 0.993 | 0.872 | 1.000 | 0.750\n",
    "| TF-IDF above 10    | 0.994 | 0.872 | 1.000 | 0.625\n",
    "| TF-IDF above 50    | 0.998 | 0.880 | 1.000 | 0.750\n",
    "| TF-IDF above 100   | 0.999 | 0.882 | 1.000 | 0.750\n",
    "  "
   ]
  },
  {
   "cell_type": "code",
   "execution_count": 50,
   "metadata": {},
   "outputs": [
    {
     "name": "stdout",
     "output_type": "stream",
     "text": [
      "******************************      Answers TF-IDF above 10 No SW       ******************************\n",
      "RandForest train accuracy: 1.000\n",
      "RandForest test accuracy: 0.688\n",
      "Accuracy: 0.6875\n",
      "[[10  1]\n",
      " [ 4  1]]\n",
      "Classification report:\n",
      "               precision    recall  f1-score   support\n",
      "\n",
      "           1       0.71      0.91      0.80        11\n",
      "           2       0.50      0.20      0.29         5\n",
      "\n",
      "    accuracy                           0.69        16\n",
      "   macro avg       0.61      0.55      0.54        16\n",
      "weighted avg       0.65      0.69      0.64        16\n",
      "\n",
      "******************************      Answers TF-IDF above 50 No SW       ******************************\n",
      "RandForest train accuracy: 1.000\n",
      "RandForest test accuracy: 0.625\n",
      "Accuracy: 0.625\n",
      "[[10  1]\n",
      " [ 5  0]]\n",
      "Classification report:\n",
      "               precision    recall  f1-score   support\n",
      "\n",
      "           1       0.67      0.91      0.77        11\n",
      "           2       0.00      0.00      0.00         5\n",
      "\n",
      "    accuracy                           0.62        16\n",
      "   macro avg       0.33      0.45      0.38        16\n",
      "weighted avg       0.46      0.62      0.53        16\n",
      "\n",
      "******************************      Answers TF-IDF above 100 No SW      ******************************\n",
      "RandForest train accuracy: 1.000\n",
      "RandForest test accuracy: 0.750\n",
      "Accuracy: 0.75\n",
      "[[10  1]\n",
      " [ 3  2]]\n",
      "Classification report:\n",
      "               precision    recall  f1-score   support\n",
      "\n",
      "           1       0.77      0.91      0.83        11\n",
      "           2       0.67      0.40      0.50         5\n",
      "\n",
      "    accuracy                           0.75        16\n",
      "   macro avg       0.72      0.65      0.67        16\n",
      "weighted avg       0.74      0.75      0.73        16\n",
      "\n",
      "******************************         Answers TF-IDF above 10          ******************************\n",
      "RandForest train accuracy: 1.000\n",
      "RandForest test accuracy: 0.625\n",
      "Accuracy: 0.625\n",
      "[[10  1]\n",
      " [ 5  0]]\n",
      "Classification report:\n",
      "               precision    recall  f1-score   support\n",
      "\n",
      "           1       0.67      0.91      0.77        11\n",
      "           2       0.00      0.00      0.00         5\n",
      "\n",
      "    accuracy                           0.62        16\n",
      "   macro avg       0.33      0.45      0.38        16\n",
      "weighted avg       0.46      0.62      0.53        16\n",
      "\n",
      "******************************         Answers TF-IDF above 50          ******************************\n",
      "RandForest train accuracy: 1.000\n",
      "RandForest test accuracy: 0.750\n",
      "Accuracy: 0.75\n",
      "[[11  0]\n",
      " [ 4  1]]\n",
      "Classification report:\n",
      "               precision    recall  f1-score   support\n",
      "\n",
      "           1       0.73      1.00      0.85        11\n",
      "           2       1.00      0.20      0.33         5\n",
      "\n",
      "    accuracy                           0.75        16\n",
      "   macro avg       0.87      0.60      0.59        16\n",
      "weighted avg       0.82      0.75      0.69        16\n",
      "\n",
      "******************************         Answers TF-IDF above 100         ******************************\n",
      "RandForest train accuracy: 1.000\n",
      "RandForest test accuracy: 0.750\n",
      "Accuracy: 0.75\n",
      "[[11  0]\n",
      " [ 4  1]]\n",
      "Classification report:\n",
      "               precision    recall  f1-score   support\n",
      "\n",
      "           1       0.73      1.00      0.85        11\n",
      "           2       1.00      0.20      0.33         5\n",
      "\n",
      "    accuracy                           0.75        16\n",
      "   macro avg       0.87      0.60      0.59        16\n",
      "weighted avg       0.82      0.75      0.69        16\n",
      "\n"
     ]
    }
   ],
   "source": [
    "rand_forest_models = []\n",
    "\n",
    "for feat, name in zip(all_a_features_vectors, all_a_features_strings):\n",
    "    print(\"*\"*30 + \" {:^40} \".format(name) + \"*\"*30)\n",
    "    rand_forest_models.append(RandForest(*feat, n_estimators=100, max_depth=50))"
   ]
  },
  {
   "cell_type": "code",
   "execution_count": 51,
   "metadata": {},
   "outputs": [
    {
     "name": "stdout",
     "output_type": "stream",
     "text": [
      "******************************      Answers TF-IDF above 10 No SW       ******************************\n"
     ]
    },
    {
     "data": {
      "image/png": "[encoded data removed]",
      "text/plain": [
       "<Figure size 720x327.273 with 1 Axes>"
      ]
     },
     "metadata": {
      "needs_background": "light"
     },
     "output_type": "display_data"
    },
    {
     "name": "stdout",
     "output_type": "stream",
     "text": [
      "******************************      Answers TF-IDF above 50 No SW       ******************************\n"
     ]
    },
    {
     "data": {
      "image/png": "[encoded data removed]",
      "text/plain": [
       "<Figure size 720x327.273 with 1 Axes>"
      ]
     },
     "metadata": {
      "needs_background": "light"
     },
     "output_type": "display_data"
    },
    {
     "name": "stdout",
     "output_type": "stream",
     "text": [
      "******************************      Answers TF-IDF above 100 No SW      ******************************\n"
     ]
    },
    {
     "data": {
      "image/png": "[encoded data removed]",
      "text/plain": [
       "<Figure size 720x327.273 with 1 Axes>"
      ]
     },
     "metadata": {
      "needs_background": "light"
     },
     "output_type": "display_data"
    },
    {
     "name": "stdout",
     "output_type": "stream",
     "text": [
      "******************************         Answers TF-IDF above 10          ******************************\n"
     ]
    },
    {
     "data": {
      "image/png": "[encoded data removed]",
      "text/plain": [
       "<Figure size 720x327.273 with 1 Axes>"
      ]
     },
     "metadata": {
      "needs_background": "light"
     },
     "output_type": "display_data"
    },
    {
     "name": "stdout",
     "output_type": "stream",
     "text": [
      "******************************         Answers TF-IDF above 50          ******************************\n"
     ]
    },
    {
     "data": {
      "image/png": "[encoded data removed]",
      "text/plain": [
       "<Figure size 720x327.273 with 1 Axes>"
      ]
     },
     "metadata": {
      "needs_background": "light"
     },
     "output_type": "display_data"
    },
    {
     "name": "stdout",
     "output_type": "stream",
     "text": [
      "******************************         Answers TF-IDF above 100         ******************************\n"
     ]
    },
    {
     "data": {
      "image/png": "[encoded data removed]",
      "text/plain": [
       "<Figure size 720x327.273 with 1 Axes>"
      ]
     },
     "metadata": {
      "needs_background": "light"
     },
     "output_type": "display_data"
    }
   ],
   "source": [
    "for i in range(len(all_a_features_strings)):\n",
    "    print(\"*\"*30 + \" {:^40} \".format(all_a_features_strings[i]) + \"*\"*30)\n",
    "    plot_features_importance(rand_forest_models[i].feature_importances_, all_a_features_vectors[i][0])\n",
    "    plt.show()"
   ]
  },
  {
   "cell_type": "code",
   "execution_count": null,
   "metadata": {},
   "outputs": [],
   "source": []
  }
 ],
 "metadata": {
  "kernelspec": {
   "display_name": "Python 3",
   "language": "python",
   "name": "python3"
  },
  "language_info": {
   "codemirror_mode": {
    "name": "ipython",
    "version": 3
   },
   "file_extension": ".py",
   "mimetype": "text/x-python",
   "name": "python",
   "nbconvert_exporter": "python",
   "pygments_lexer": "ipython3",
   "version": "3.10.4"
  },
  "orig_nbformat": 4
 },
 "nbformat": 4,
 "nbformat_minor": 2
}
